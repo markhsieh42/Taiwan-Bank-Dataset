{
  "nbformat": 4,
  "nbformat_minor": 0,
  "metadata": {
    "kernelspec": {
      "display_name": "mark",
      "language": "python",
      "name": "mark"
    },
    "language_info": {
      "codemirror_mode": {
        "name": "ipython",
        "version": 3
      },
      "file_extension": ".py",
      "mimetype": "text/x-python",
      "name": "python",
      "nbconvert_exporter": "python",
      "pygments_lexer": "ipython3",
      "version": "3.6.5"
    },
    "colab": {
      "name": "2020_04_17 Bond_Uni_Taiwan_Bank.ipynb",
      "provenance": [],
      "collapsed_sections": [],
      "toc_visible": true,
      "machine_shape": "hm"
    },
    "accelerator": "GPU"
  },
  "cells": [
    {
      "cell_type": "code",
      "metadata": {
        "id": "-dEw8179y2qD",
        "colab_type": "code",
        "colab": {}
      },
      "source": [
        "import numpy as np\n",
        "import pandas as pd\n",
        "\n",
        "import matplotlib.pyplot as plt\n",
        "import seaborn as sns\n",
        "import plotly.graph_objects as go\n",
        "from plotly import tools\n",
        "from plotly.offline import download_plotlyjs, init_notebook_mode, plot, iplot\n",
        "\n",
        "import sklearn as sk"
      ],
      "execution_count": 0,
      "outputs": []
    },
    {
      "cell_type": "code",
      "metadata": {
        "id": "rR-A8Z6zy2qH",
        "colab_type": "code",
        "colab": {}
      },
      "source": [
        "df = pd.read_csv(\"Bond_Uni_Taiwan_Bank.csv\")"
      ],
      "execution_count": 0,
      "outputs": []
    },
    {
      "cell_type": "code",
      "metadata": {
        "id": "iALArpdsy2qK",
        "colab_type": "code",
        "colab": {
          "base_uri": "https://localhost:8080/",
          "height": 264
        },
        "outputId": "41ea72fb-c5c4-4b73-bc6d-b13404c3fba2"
      },
      "source": [
        "df.head()"
      ],
      "execution_count": 45,
      "outputs": [
        {
          "output_type": "execute_result",
          "data": {
            "text/html": [
              "<div>\n",
              "<style scoped>\n",
              "    .dataframe tbody tr th:only-of-type {\n",
              "        vertical-align: middle;\n",
              "    }\n",
              "\n",
              "    .dataframe tbody tr th {\n",
              "        vertical-align: top;\n",
              "    }\n",
              "\n",
              "    .dataframe thead th {\n",
              "        text-align: right;\n",
              "    }\n",
              "</style>\n",
              "<table border=\"1\" class=\"dataframe\">\n",
              "  <thead>\n",
              "    <tr style=\"text-align: right;\">\n",
              "      <th></th>\n",
              "      <th>ROWNUMBER</th>\n",
              "      <th>CREDITAMOUNT</th>\n",
              "      <th>SEX</th>\n",
              "      <th>EDUCATION</th>\n",
              "      <th>MARRIAGE</th>\n",
              "      <th>AGE</th>\n",
              "      <th>PAYDELAY1</th>\n",
              "      <th>PAYDELAY2</th>\n",
              "      <th>PAYDELAY3</th>\n",
              "      <th>PAYDELAY4</th>\n",
              "      <th>PAYDELAY5</th>\n",
              "      <th>PAYDELAY6</th>\n",
              "      <th>BILL_AMT1</th>\n",
              "      <th>BILL_AMT2</th>\n",
              "      <th>BILL_AMT3</th>\n",
              "      <th>BILL_AMT4</th>\n",
              "      <th>BILL_AMT5</th>\n",
              "      <th>BILL_AMT6</th>\n",
              "      <th>PAY_AMT1</th>\n",
              "      <th>PAY_AMT2</th>\n",
              "      <th>PAY_AMT3</th>\n",
              "      <th>PAY_AMT4</th>\n",
              "      <th>PAY_AMT5</th>\n",
              "      <th>PAY_AMT6</th>\n",
              "      <th>DEFAULTNEXTMONTH</th>\n",
              "    </tr>\n",
              "  </thead>\n",
              "  <tbody>\n",
              "    <tr>\n",
              "      <th>0</th>\n",
              "      <td>203</td>\n",
              "      <td>140000.0</td>\n",
              "      <td>Female</td>\n",
              "      <td>Graduate School</td>\n",
              "      <td>Single</td>\n",
              "      <td>26</td>\n",
              "      <td>-1</td>\n",
              "      <td>0</td>\n",
              "      <td>-1</td>\n",
              "      <td>-1</td>\n",
              "      <td>-1</td>\n",
              "      <td>-1</td>\n",
              "      <td>13424.0</td>\n",
              "      <td>18000.0</td>\n",
              "      <td>13001.0</td>\n",
              "      <td>5818.0</td>\n",
              "      <td>13506.0</td>\n",
              "      <td>487.0</td>\n",
              "      <td>10000.0</td>\n",
              "      <td>13001.0</td>\n",
              "      <td>5841.0</td>\n",
              "      <td>13506.0</td>\n",
              "      <td>487.0</td>\n",
              "      <td>7004.0</td>\n",
              "      <td>0</td>\n",
              "    </tr>\n",
              "    <tr>\n",
              "      <th>1</th>\n",
              "      <td>204</td>\n",
              "      <td>120000.0</td>\n",
              "      <td>Male</td>\n",
              "      <td>University</td>\n",
              "      <td>Single</td>\n",
              "      <td>26</td>\n",
              "      <td>0</td>\n",
              "      <td>0</td>\n",
              "      <td>0</td>\n",
              "      <td>0</td>\n",
              "      <td>0</td>\n",
              "      <td>0</td>\n",
              "      <td>107314.0</td>\n",
              "      <td>110578.0</td>\n",
              "      <td>113736.0</td>\n",
              "      <td>116000.0</td>\n",
              "      <td>119131.0</td>\n",
              "      <td>122135.0</td>\n",
              "      <td>5000.0</td>\n",
              "      <td>5000.0</td>\n",
              "      <td>4152.0</td>\n",
              "      <td>5000.0</td>\n",
              "      <td>5000.0</td>\n",
              "      <td>5000.0</td>\n",
              "      <td>0</td>\n",
              "    </tr>\n",
              "    <tr>\n",
              "      <th>2</th>\n",
              "      <td>205</td>\n",
              "      <td>360000.0</td>\n",
              "      <td>Female</td>\n",
              "      <td>University</td>\n",
              "      <td>Married</td>\n",
              "      <td>48</td>\n",
              "      <td>0</td>\n",
              "      <td>0</td>\n",
              "      <td>0</td>\n",
              "      <td>0</td>\n",
              "      <td>0</td>\n",
              "      <td>0</td>\n",
              "      <td>226430.0</td>\n",
              "      <td>231878.0</td>\n",
              "      <td>234192.0</td>\n",
              "      <td>190211.0</td>\n",
              "      <td>173557.0</td>\n",
              "      <td>146511.0</td>\n",
              "      <td>9100.0</td>\n",
              "      <td>7300.0</td>\n",
              "      <td>5800.0</td>\n",
              "      <td>5600.0</td>\n",
              "      <td>5600.0</td>\n",
              "      <td>4100.0</td>\n",
              "      <td>0</td>\n",
              "    </tr>\n",
              "    <tr>\n",
              "      <th>3</th>\n",
              "      <td>206</td>\n",
              "      <td>20000.0</td>\n",
              "      <td>Male</td>\n",
              "      <td>High School</td>\n",
              "      <td>Married</td>\n",
              "      <td>43</td>\n",
              "      <td>-1</td>\n",
              "      <td>-1</td>\n",
              "      <td>0</td>\n",
              "      <td>0</td>\n",
              "      <td>0</td>\n",
              "      <td>0</td>\n",
              "      <td>227.0</td>\n",
              "      <td>20351.0</td>\n",
              "      <td>20237.0</td>\n",
              "      <td>19339.0</td>\n",
              "      <td>19450.0</td>\n",
              "      <td>19337.0</td>\n",
              "      <td>22359.0</td>\n",
              "      <td>1305.0</td>\n",
              "      <td>1258.0</td>\n",
              "      <td>1459.0</td>\n",
              "      <td>3457.0</td>\n",
              "      <td>1700.0</td>\n",
              "      <td>0</td>\n",
              "    </tr>\n",
              "    <tr>\n",
              "      <th>4</th>\n",
              "      <td>207</td>\n",
              "      <td>100000.0</td>\n",
              "      <td>Male</td>\n",
              "      <td>Graduate School</td>\n",
              "      <td>Married</td>\n",
              "      <td>47</td>\n",
              "      <td>-1</td>\n",
              "      <td>-1</td>\n",
              "      <td>-1</td>\n",
              "      <td>-1</td>\n",
              "      <td>-1</td>\n",
              "      <td>-1</td>\n",
              "      <td>390.0</td>\n",
              "      <td>1473.0</td>\n",
              "      <td>390.0</td>\n",
              "      <td>390.0</td>\n",
              "      <td>390.0</td>\n",
              "      <td>0.0</td>\n",
              "      <td>1473.0</td>\n",
              "      <td>390.0</td>\n",
              "      <td>390.0</td>\n",
              "      <td>390.0</td>\n",
              "      <td>0.0</td>\n",
              "      <td>2380.0</td>\n",
              "      <td>0</td>\n",
              "    </tr>\n",
              "  </tbody>\n",
              "</table>\n",
              "</div>"
            ],
            "text/plain": [
              "   ROWNUMBER  CREDITAMOUNT     SEX        EDUCATION MARRIAGE  AGE  PAYDELAY1  \\\n",
              "0        203      140000.0  Female  Graduate School   Single   26         -1   \n",
              "1        204      120000.0    Male       University   Single   26          0   \n",
              "2        205      360000.0  Female       University  Married   48          0   \n",
              "3        206       20000.0    Male      High School  Married   43         -1   \n",
              "4        207      100000.0    Male  Graduate School  Married   47         -1   \n",
              "\n",
              "   PAYDELAY2  PAYDELAY3  PAYDELAY4  PAYDELAY5  PAYDELAY6  BILL_AMT1  \\\n",
              "0          0         -1         -1         -1         -1    13424.0   \n",
              "1          0          0          0          0          0   107314.0   \n",
              "2          0          0          0          0          0   226430.0   \n",
              "3         -1          0          0          0          0      227.0   \n",
              "4         -1         -1         -1         -1         -1      390.0   \n",
              "\n",
              "   BILL_AMT2  BILL_AMT3  BILL_AMT4  BILL_AMT5  BILL_AMT6  PAY_AMT1  PAY_AMT2  \\\n",
              "0    18000.0    13001.0     5818.0    13506.0      487.0   10000.0   13001.0   \n",
              "1   110578.0   113736.0   116000.0   119131.0   122135.0    5000.0    5000.0   \n",
              "2   231878.0   234192.0   190211.0   173557.0   146511.0    9100.0    7300.0   \n",
              "3    20351.0    20237.0    19339.0    19450.0    19337.0   22359.0    1305.0   \n",
              "4     1473.0      390.0      390.0      390.0        0.0    1473.0     390.0   \n",
              "\n",
              "   PAY_AMT3  PAY_AMT4  PAY_AMT5  PAY_AMT6  DEFAULTNEXTMONTH  \n",
              "0    5841.0   13506.0     487.0    7004.0                 0  \n",
              "1    4152.0    5000.0    5000.0    5000.0                 0  \n",
              "2    5800.0    5600.0    5600.0    4100.0                 0  \n",
              "3    1258.0    1459.0    3457.0    1700.0                 0  \n",
              "4     390.0     390.0       0.0    2380.0                 0  "
            ]
          },
          "metadata": {
            "tags": []
          },
          "execution_count": 45
        }
      ]
    },
    {
      "cell_type": "code",
      "metadata": {
        "id": "5vzPbYcdy2qN",
        "colab_type": "code",
        "colab": {}
      },
      "source": [
        "# Set ipython's max row display\n",
        "pd.set_option('display.max_row', 1000)\n",
        "\n",
        "# Set iPython's max column width to 50\n",
        "pd.set_option('display.max_columns', 50)"
      ],
      "execution_count": 0,
      "outputs": []
    },
    {
      "cell_type": "code",
      "metadata": {
        "id": "79GQyOYgy2qQ",
        "colab_type": "code",
        "colab": {
          "base_uri": "https://localhost:8080/",
          "height": 780
        },
        "outputId": "d1b28702-04b4-490d-da6d-a3b14004ebcd"
      },
      "source": [
        "percent_missing = df.isnull().sum() / len(df)\n",
        "percent_missing_df = pd.DataFrame({'percent_missing': percent_missing})\n",
        "percent_missing_df"
      ],
      "execution_count": 47,
      "outputs": [
        {
          "output_type": "execute_result",
          "data": {
            "text/html": [
              "<div>\n",
              "<style scoped>\n",
              "    .dataframe tbody tr th:only-of-type {\n",
              "        vertical-align: middle;\n",
              "    }\n",
              "\n",
              "    .dataframe tbody tr th {\n",
              "        vertical-align: top;\n",
              "    }\n",
              "\n",
              "    .dataframe thead th {\n",
              "        text-align: right;\n",
              "    }\n",
              "</style>\n",
              "<table border=\"1\" class=\"dataframe\">\n",
              "  <thead>\n",
              "    <tr style=\"text-align: right;\">\n",
              "      <th></th>\n",
              "      <th>percent_missing</th>\n",
              "    </tr>\n",
              "  </thead>\n",
              "  <tbody>\n",
              "    <tr>\n",
              "      <th>ROWNUMBER</th>\n",
              "      <td>0.0</td>\n",
              "    </tr>\n",
              "    <tr>\n",
              "      <th>CREDITAMOUNT</th>\n",
              "      <td>0.0</td>\n",
              "    </tr>\n",
              "    <tr>\n",
              "      <th>SEX</th>\n",
              "      <td>0.0</td>\n",
              "    </tr>\n",
              "    <tr>\n",
              "      <th>EDUCATION</th>\n",
              "      <td>0.0</td>\n",
              "    </tr>\n",
              "    <tr>\n",
              "      <th>MARRIAGE</th>\n",
              "      <td>0.0</td>\n",
              "    </tr>\n",
              "    <tr>\n",
              "      <th>AGE</th>\n",
              "      <td>0.0</td>\n",
              "    </tr>\n",
              "    <tr>\n",
              "      <th>PAYDELAY1</th>\n",
              "      <td>0.0</td>\n",
              "    </tr>\n",
              "    <tr>\n",
              "      <th>PAYDELAY2</th>\n",
              "      <td>0.0</td>\n",
              "    </tr>\n",
              "    <tr>\n",
              "      <th>PAYDELAY3</th>\n",
              "      <td>0.0</td>\n",
              "    </tr>\n",
              "    <tr>\n",
              "      <th>PAYDELAY4</th>\n",
              "      <td>0.0</td>\n",
              "    </tr>\n",
              "    <tr>\n",
              "      <th>PAYDELAY5</th>\n",
              "      <td>0.0</td>\n",
              "    </tr>\n",
              "    <tr>\n",
              "      <th>PAYDELAY6</th>\n",
              "      <td>0.0</td>\n",
              "    </tr>\n",
              "    <tr>\n",
              "      <th>BILL_AMT1</th>\n",
              "      <td>0.0</td>\n",
              "    </tr>\n",
              "    <tr>\n",
              "      <th>BILL_AMT2</th>\n",
              "      <td>0.0</td>\n",
              "    </tr>\n",
              "    <tr>\n",
              "      <th>BILL_AMT3</th>\n",
              "      <td>0.0</td>\n",
              "    </tr>\n",
              "    <tr>\n",
              "      <th>BILL_AMT4</th>\n",
              "      <td>0.0</td>\n",
              "    </tr>\n",
              "    <tr>\n",
              "      <th>BILL_AMT5</th>\n",
              "      <td>0.0</td>\n",
              "    </tr>\n",
              "    <tr>\n",
              "      <th>BILL_AMT6</th>\n",
              "      <td>0.0</td>\n",
              "    </tr>\n",
              "    <tr>\n",
              "      <th>PAY_AMT1</th>\n",
              "      <td>0.0</td>\n",
              "    </tr>\n",
              "    <tr>\n",
              "      <th>PAY_AMT2</th>\n",
              "      <td>0.0</td>\n",
              "    </tr>\n",
              "    <tr>\n",
              "      <th>PAY_AMT3</th>\n",
              "      <td>0.0</td>\n",
              "    </tr>\n",
              "    <tr>\n",
              "      <th>PAY_AMT4</th>\n",
              "      <td>0.0</td>\n",
              "    </tr>\n",
              "    <tr>\n",
              "      <th>PAY_AMT5</th>\n",
              "      <td>0.0</td>\n",
              "    </tr>\n",
              "    <tr>\n",
              "      <th>PAY_AMT6</th>\n",
              "      <td>0.0</td>\n",
              "    </tr>\n",
              "    <tr>\n",
              "      <th>DEFAULTNEXTMONTH</th>\n",
              "      <td>0.0</td>\n",
              "    </tr>\n",
              "  </tbody>\n",
              "</table>\n",
              "</div>"
            ],
            "text/plain": [
              "                  percent_missing\n",
              "ROWNUMBER                     0.0\n",
              "CREDITAMOUNT                  0.0\n",
              "SEX                           0.0\n",
              "EDUCATION                     0.0\n",
              "MARRIAGE                      0.0\n",
              "AGE                           0.0\n",
              "PAYDELAY1                     0.0\n",
              "PAYDELAY2                     0.0\n",
              "PAYDELAY3                     0.0\n",
              "PAYDELAY4                     0.0\n",
              "PAYDELAY5                     0.0\n",
              "PAYDELAY6                     0.0\n",
              "BILL_AMT1                     0.0\n",
              "BILL_AMT2                     0.0\n",
              "BILL_AMT3                     0.0\n",
              "BILL_AMT4                     0.0\n",
              "BILL_AMT5                     0.0\n",
              "BILL_AMT6                     0.0\n",
              "PAY_AMT1                      0.0\n",
              "PAY_AMT2                      0.0\n",
              "PAY_AMT3                      0.0\n",
              "PAY_AMT4                      0.0\n",
              "PAY_AMT5                      0.0\n",
              "PAY_AMT6                      0.0\n",
              "DEFAULTNEXTMONTH              0.0"
            ]
          },
          "metadata": {
            "tags": []
          },
          "execution_count": 47
        }
      ]
    },
    {
      "cell_type": "code",
      "metadata": {
        "id": "EaQyN5Z9y2qT",
        "colab_type": "code",
        "colab": {}
      },
      "source": [
        "# so the missing data is none. Good."
      ],
      "execution_count": 0,
      "outputs": []
    },
    {
      "cell_type": "code",
      "metadata": {
        "id": "iZ02TdCoy2qW",
        "colab_type": "code",
        "colab": {}
      },
      "source": [
        "# convert column names into lowercase\n",
        "df.columns = map(str.lower, df.columns)"
      ],
      "execution_count": 0,
      "outputs": []
    },
    {
      "cell_type": "code",
      "metadata": {
        "id": "sgdQTdxCy2qZ",
        "colab_type": "code",
        "colab": {
          "base_uri": "https://localhost:8080/",
          "height": 143
        },
        "outputId": "f4b641b9-0596-414a-cfdf-eb9d1cdd55a9"
      },
      "source": [
        "df.head(2)"
      ],
      "execution_count": 50,
      "outputs": [
        {
          "output_type": "execute_result",
          "data": {
            "text/html": [
              "<div>\n",
              "<style scoped>\n",
              "    .dataframe tbody tr th:only-of-type {\n",
              "        vertical-align: middle;\n",
              "    }\n",
              "\n",
              "    .dataframe tbody tr th {\n",
              "        vertical-align: top;\n",
              "    }\n",
              "\n",
              "    .dataframe thead th {\n",
              "        text-align: right;\n",
              "    }\n",
              "</style>\n",
              "<table border=\"1\" class=\"dataframe\">\n",
              "  <thead>\n",
              "    <tr style=\"text-align: right;\">\n",
              "      <th></th>\n",
              "      <th>rownumber</th>\n",
              "      <th>creditamount</th>\n",
              "      <th>sex</th>\n",
              "      <th>education</th>\n",
              "      <th>marriage</th>\n",
              "      <th>age</th>\n",
              "      <th>paydelay1</th>\n",
              "      <th>paydelay2</th>\n",
              "      <th>paydelay3</th>\n",
              "      <th>paydelay4</th>\n",
              "      <th>paydelay5</th>\n",
              "      <th>paydelay6</th>\n",
              "      <th>bill_amt1</th>\n",
              "      <th>bill_amt2</th>\n",
              "      <th>bill_amt3</th>\n",
              "      <th>bill_amt4</th>\n",
              "      <th>bill_amt5</th>\n",
              "      <th>bill_amt6</th>\n",
              "      <th>pay_amt1</th>\n",
              "      <th>pay_amt2</th>\n",
              "      <th>pay_amt3</th>\n",
              "      <th>pay_amt4</th>\n",
              "      <th>pay_amt5</th>\n",
              "      <th>pay_amt6</th>\n",
              "      <th>defaultnextmonth</th>\n",
              "    </tr>\n",
              "  </thead>\n",
              "  <tbody>\n",
              "    <tr>\n",
              "      <th>0</th>\n",
              "      <td>203</td>\n",
              "      <td>140000.0</td>\n",
              "      <td>Female</td>\n",
              "      <td>Graduate School</td>\n",
              "      <td>Single</td>\n",
              "      <td>26</td>\n",
              "      <td>-1</td>\n",
              "      <td>0</td>\n",
              "      <td>-1</td>\n",
              "      <td>-1</td>\n",
              "      <td>-1</td>\n",
              "      <td>-1</td>\n",
              "      <td>13424.0</td>\n",
              "      <td>18000.0</td>\n",
              "      <td>13001.0</td>\n",
              "      <td>5818.0</td>\n",
              "      <td>13506.0</td>\n",
              "      <td>487.0</td>\n",
              "      <td>10000.0</td>\n",
              "      <td>13001.0</td>\n",
              "      <td>5841.0</td>\n",
              "      <td>13506.0</td>\n",
              "      <td>487.0</td>\n",
              "      <td>7004.0</td>\n",
              "      <td>0</td>\n",
              "    </tr>\n",
              "    <tr>\n",
              "      <th>1</th>\n",
              "      <td>204</td>\n",
              "      <td>120000.0</td>\n",
              "      <td>Male</td>\n",
              "      <td>University</td>\n",
              "      <td>Single</td>\n",
              "      <td>26</td>\n",
              "      <td>0</td>\n",
              "      <td>0</td>\n",
              "      <td>0</td>\n",
              "      <td>0</td>\n",
              "      <td>0</td>\n",
              "      <td>0</td>\n",
              "      <td>107314.0</td>\n",
              "      <td>110578.0</td>\n",
              "      <td>113736.0</td>\n",
              "      <td>116000.0</td>\n",
              "      <td>119131.0</td>\n",
              "      <td>122135.0</td>\n",
              "      <td>5000.0</td>\n",
              "      <td>5000.0</td>\n",
              "      <td>4152.0</td>\n",
              "      <td>5000.0</td>\n",
              "      <td>5000.0</td>\n",
              "      <td>5000.0</td>\n",
              "      <td>0</td>\n",
              "    </tr>\n",
              "  </tbody>\n",
              "</table>\n",
              "</div>"
            ],
            "text/plain": [
              "   rownumber  creditamount     sex        education marriage  age  paydelay1  \\\n",
              "0        203      140000.0  Female  Graduate School   Single   26         -1   \n",
              "1        204      120000.0    Male       University   Single   26          0   \n",
              "\n",
              "   paydelay2  paydelay3  paydelay4  paydelay5  paydelay6  bill_amt1  \\\n",
              "0          0         -1         -1         -1         -1    13424.0   \n",
              "1          0          0          0          0          0   107314.0   \n",
              "\n",
              "   bill_amt2  bill_amt3  bill_amt4  bill_amt5  bill_amt6  pay_amt1  pay_amt2  \\\n",
              "0    18000.0    13001.0     5818.0    13506.0      487.0   10000.0   13001.0   \n",
              "1   110578.0   113736.0   116000.0   119131.0   122135.0    5000.0    5000.0   \n",
              "\n",
              "   pay_amt3  pay_amt4  pay_amt5  pay_amt6  defaultnextmonth  \n",
              "0    5841.0   13506.0     487.0    7004.0                 0  \n",
              "1    4152.0    5000.0    5000.0    5000.0                 0  "
            ]
          },
          "metadata": {
            "tags": []
          },
          "execution_count": 50
        }
      ]
    },
    {
      "cell_type": "code",
      "metadata": {
        "id": "Yitqhk03y2qc",
        "colab_type": "code",
        "colab": {}
      },
      "source": [
        "# convert columns into proper type.\n",
        "new_df = df.astype({\"sex\":'category', \"education\":'category', \"marriage\":'category', \"defaultnextmonth\":\"category\"})"
      ],
      "execution_count": 0,
      "outputs": []
    },
    {
      "cell_type": "code",
      "metadata": {
        "id": "O_B2qTyNy2qe",
        "colab_type": "code",
        "colab": {}
      },
      "source": [
        ""
      ],
      "execution_count": 0,
      "outputs": []
    },
    {
      "cell_type": "markdown",
      "metadata": {
        "id": "RuJduesgy2qh",
        "colab_type": "text"
      },
      "source": [
        "# First, EDA -- Education vs Gender"
      ]
    },
    {
      "cell_type": "code",
      "metadata": {
        "id": "N-cmmM6Ry2qh",
        "colab_type": "code",
        "colab": {}
      },
      "source": [
        "# which city and state has maximum teacher donors \n",
        "tempdf = new_df.groupby(['education', 'sex']).agg({'sex' : 'count' }).rename(columns={'sex' : 'gender_counts'}).reset_index()"
      ],
      "execution_count": 0,
      "outputs": []
    },
    {
      "cell_type": "code",
      "metadata": {
        "id": "ETx30HY1y2ql",
        "colab_type": "code",
        "colab": {
          "base_uri": "https://localhost:8080/",
          "height": 458
        },
        "outputId": "2d546e55-ba23-4347-a93f-16d22106b4a9"
      },
      "source": [
        "tempdf"
      ],
      "execution_count": 53,
      "outputs": [
        {
          "output_type": "execute_result",
          "data": {
            "text/html": [
              "<div>\n",
              "<style scoped>\n",
              "    .dataframe tbody tr th:only-of-type {\n",
              "        vertical-align: middle;\n",
              "    }\n",
              "\n",
              "    .dataframe tbody tr th {\n",
              "        vertical-align: top;\n",
              "    }\n",
              "\n",
              "    .dataframe thead th {\n",
              "        text-align: right;\n",
              "    }\n",
              "</style>\n",
              "<table border=\"1\" class=\"dataframe\">\n",
              "  <thead>\n",
              "    <tr style=\"text-align: right;\">\n",
              "      <th></th>\n",
              "      <th>education</th>\n",
              "      <th>sex</th>\n",
              "      <th>gender_counts</th>\n",
              "    </tr>\n",
              "  </thead>\n",
              "  <tbody>\n",
              "    <tr>\n",
              "      <th>0</th>\n",
              "      <td>0</td>\n",
              "      <td>Female</td>\n",
              "      <td>6</td>\n",
              "    </tr>\n",
              "    <tr>\n",
              "      <th>1</th>\n",
              "      <td>0</td>\n",
              "      <td>Male</td>\n",
              "      <td>8</td>\n",
              "    </tr>\n",
              "    <tr>\n",
              "      <th>2</th>\n",
              "      <td>5</td>\n",
              "      <td>Female</td>\n",
              "      <td>185</td>\n",
              "    </tr>\n",
              "    <tr>\n",
              "      <th>3</th>\n",
              "      <td>5</td>\n",
              "      <td>Male</td>\n",
              "      <td>95</td>\n",
              "    </tr>\n",
              "    <tr>\n",
              "      <th>4</th>\n",
              "      <td>6</td>\n",
              "      <td>Female</td>\n",
              "      <td>26</td>\n",
              "    </tr>\n",
              "    <tr>\n",
              "      <th>5</th>\n",
              "      <td>6</td>\n",
              "      <td>Male</td>\n",
              "      <td>25</td>\n",
              "    </tr>\n",
              "    <tr>\n",
              "      <th>6</th>\n",
              "      <td>Below High School</td>\n",
              "      <td>Female</td>\n",
              "      <td>81</td>\n",
              "    </tr>\n",
              "    <tr>\n",
              "      <th>7</th>\n",
              "      <td>Below High School</td>\n",
              "      <td>Male</td>\n",
              "      <td>42</td>\n",
              "    </tr>\n",
              "    <tr>\n",
              "      <th>8</th>\n",
              "      <td>Graduate School</td>\n",
              "      <td>Female</td>\n",
              "      <td>6231</td>\n",
              "    </tr>\n",
              "    <tr>\n",
              "      <th>9</th>\n",
              "      <td>Graduate School</td>\n",
              "      <td>Male</td>\n",
              "      <td>4354</td>\n",
              "    </tr>\n",
              "    <tr>\n",
              "      <th>10</th>\n",
              "      <td>High School</td>\n",
              "      <td>Female</td>\n",
              "      <td>2927</td>\n",
              "    </tr>\n",
              "    <tr>\n",
              "      <th>11</th>\n",
              "      <td>High School</td>\n",
              "      <td>Male</td>\n",
              "      <td>1990</td>\n",
              "    </tr>\n",
              "    <tr>\n",
              "      <th>12</th>\n",
              "      <td>University</td>\n",
              "      <td>Female</td>\n",
              "      <td>8656</td>\n",
              "    </tr>\n",
              "    <tr>\n",
              "      <th>13</th>\n",
              "      <td>University</td>\n",
              "      <td>Male</td>\n",
              "      <td>5374</td>\n",
              "    </tr>\n",
              "  </tbody>\n",
              "</table>\n",
              "</div>"
            ],
            "text/plain": [
              "            education     sex  gender_counts\n",
              "0                   0  Female              6\n",
              "1                   0    Male              8\n",
              "2                   5  Female            185\n",
              "3                   5    Male             95\n",
              "4                   6  Female             26\n",
              "5                   6    Male             25\n",
              "6   Below High School  Female             81\n",
              "7   Below High School    Male             42\n",
              "8     Graduate School  Female           6231\n",
              "9     Graduate School    Male           4354\n",
              "10        High School  Female           2927\n",
              "11        High School    Male           1990\n",
              "12         University  Female           8656\n",
              "13         University    Male           5374"
            ]
          },
          "metadata": {
            "tags": []
          },
          "execution_count": 53
        }
      ]
    },
    {
      "cell_type": "markdown",
      "metadata": {
        "id": "BW8jmeqyy2qo",
        "colab_type": "text"
      },
      "source": [
        "# deal with education is number problem -- Start"
      ]
    },
    {
      "cell_type": "code",
      "metadata": {
        "id": "4E10RFmay2qo",
        "colab_type": "code",
        "colab": {
          "base_uri": "https://localhost:8080/",
          "height": 52
        },
        "outputId": "0879b1a5-2b95-47ca-ad4a-e4071e97c4a9"
      },
      "source": [
        "df[\"education\"].unique()"
      ],
      "execution_count": 54,
      "outputs": [
        {
          "output_type": "execute_result",
          "data": {
            "text/plain": [
              "array(['Graduate School', 'University', 'High School', '5',\n",
              "       'Below High School', '6', '0'], dtype=object)"
            ]
          },
          "metadata": {
            "tags": []
          },
          "execution_count": 54
        }
      ]
    },
    {
      "cell_type": "code",
      "metadata": {
        "id": "ccnwiWCEy2qs",
        "colab_type": "code",
        "colab": {
          "base_uri": "https://localhost:8080/",
          "height": 35
        },
        "outputId": "03eda60e-fdbf-4a16-d817-66bf7dc6764e"
      },
      "source": [
        "temp = [df[df['education'] == i].shape[0] for i in ('5','6','0')]\n",
        "temp"
      ],
      "execution_count": 55,
      "outputs": [
        {
          "output_type": "execute_result",
          "data": {
            "text/plain": [
              "[280, 51, 14]"
            ]
          },
          "metadata": {
            "tags": []
          },
          "execution_count": 55
        }
      ]
    },
    {
      "cell_type": "code",
      "metadata": {
        "id": "rhzHvg5fy2qu",
        "colab_type": "code",
        "colab": {
          "base_uri": "https://localhost:8080/",
          "height": 513
        },
        "outputId": "469d6678-3378-41ad-f065-7a7a0daea4a7"
      },
      "source": [
        "# Now, I wanna to deduce what are ('5','6','0') stands for in education via boxplot -- marriage vs education\n",
        "sns.set(style = \"whitegrid\")\n",
        "\n",
        "plt.figure(figsize=(12, 8))\n",
        "ax = sns.boxplot(x=\"education\", y=\"creditamount\", hue=\"marriage\",\n",
        "                 data=df, palette=\"muted\")"
      ],
      "execution_count": 56,
      "outputs": [
        {
          "output_type": "display_data",
          "data": {
            "image/png": "[encoded data removed]",
            "text/plain": [
              "<Figure size 864x576 with 1 Axes>"
            ]
          },
          "metadata": {
            "tags": []
          }
        }
      ]
    },
    {
      "cell_type": "code",
      "metadata": {
        "id": "pmvhJYKCy2qw",
        "colab_type": "code",
        "colab": {
          "base_uri": "https://localhost:8080/",
          "height": 52
        },
        "outputId": "37e21779-e0c5-4cad-9f5a-51ee8c9a43a4"
      },
      "source": [
        "# OK, so the conclusion is, \"0\", \"5\", \"6\" in education stands for \"Below high school\", \"Graduate school\" and \"University\" respectively.\n",
        "\n",
        "# change the column value\n",
        "replace_values = {'0' : \"Below High School\", '5' : \"Graduate School\", '6' : \"University\" }                                                                                          \n",
        "\n",
        "new_df = new_df.replace({\"education\": replace_values})                                                                                             \n",
        "\n",
        "new_df[\"education\"].unique()"
      ],
      "execution_count": 57,
      "outputs": [
        {
          "output_type": "execute_result",
          "data": {
            "text/plain": [
              "array(['Graduate School', 'University', 'High School',\n",
              "       'Below High School'], dtype=object)"
            ]
          },
          "metadata": {
            "tags": []
          },
          "execution_count": 57
        }
      ]
    },
    {
      "cell_type": "code",
      "metadata": {
        "id": "Fv_qdyycy2qz",
        "colab_type": "code",
        "colab": {
          "base_uri": "https://localhost:8080/",
          "height": 513
        },
        "outputId": "8ac1f109-1abb-4671-d3a2-9064d64987f1"
      },
      "source": [
        "sns.set(style = \"whitegrid\")\n",
        "\n",
        "plt.figure(figsize=(12, 8))\n",
        "ax = sns.boxplot(x=\"education\", y=\"creditamount\", hue=\"marriage\",\n",
        "                 data=new_df, palette=\"muted\")"
      ],
      "execution_count": 58,
      "outputs": [
        {
          "output_type": "display_data",
          "data": {
            "image/png": "[encoded data removed]",
            "text/plain": [
              "<Figure size 864x576 with 1 Axes>"
            ]
          },
          "metadata": {
            "tags": []
          }
        }
      ]
    },
    {
      "cell_type": "code",
      "metadata": {
        "id": "g0WWowdKy2q2",
        "colab_type": "code",
        "colab": {
          "base_uri": "https://localhost:8080/",
          "height": 143
        },
        "outputId": "d4aec523-c17f-4adb-f118-d10011615cb8"
      },
      "source": [
        "new_df.head(2)"
      ],
      "execution_count": 59,
      "outputs": [
        {
          "output_type": "execute_result",
          "data": {
            "text/html": [
              "<div>\n",
              "<style scoped>\n",
              "    .dataframe tbody tr th:only-of-type {\n",
              "        vertical-align: middle;\n",
              "    }\n",
              "\n",
              "    .dataframe tbody tr th {\n",
              "        vertical-align: top;\n",
              "    }\n",
              "\n",
              "    .dataframe thead th {\n",
              "        text-align: right;\n",
              "    }\n",
              "</style>\n",
              "<table border=\"1\" class=\"dataframe\">\n",
              "  <thead>\n",
              "    <tr style=\"text-align: right;\">\n",
              "      <th></th>\n",
              "      <th>rownumber</th>\n",
              "      <th>creditamount</th>\n",
              "      <th>sex</th>\n",
              "      <th>education</th>\n",
              "      <th>marriage</th>\n",
              "      <th>age</th>\n",
              "      <th>paydelay1</th>\n",
              "      <th>paydelay2</th>\n",
              "      <th>paydelay3</th>\n",
              "      <th>paydelay4</th>\n",
              "      <th>paydelay5</th>\n",
              "      <th>paydelay6</th>\n",
              "      <th>bill_amt1</th>\n",
              "      <th>bill_amt2</th>\n",
              "      <th>bill_amt3</th>\n",
              "      <th>bill_amt4</th>\n",
              "      <th>bill_amt5</th>\n",
              "      <th>bill_amt6</th>\n",
              "      <th>pay_amt1</th>\n",
              "      <th>pay_amt2</th>\n",
              "      <th>pay_amt3</th>\n",
              "      <th>pay_amt4</th>\n",
              "      <th>pay_amt5</th>\n",
              "      <th>pay_amt6</th>\n",
              "      <th>defaultnextmonth</th>\n",
              "    </tr>\n",
              "  </thead>\n",
              "  <tbody>\n",
              "    <tr>\n",
              "      <th>0</th>\n",
              "      <td>203</td>\n",
              "      <td>140000.0</td>\n",
              "      <td>Female</td>\n",
              "      <td>Graduate School</td>\n",
              "      <td>Single</td>\n",
              "      <td>26</td>\n",
              "      <td>-1</td>\n",
              "      <td>0</td>\n",
              "      <td>-1</td>\n",
              "      <td>-1</td>\n",
              "      <td>-1</td>\n",
              "      <td>-1</td>\n",
              "      <td>13424.0</td>\n",
              "      <td>18000.0</td>\n",
              "      <td>13001.0</td>\n",
              "      <td>5818.0</td>\n",
              "      <td>13506.0</td>\n",
              "      <td>487.0</td>\n",
              "      <td>10000.0</td>\n",
              "      <td>13001.0</td>\n",
              "      <td>5841.0</td>\n",
              "      <td>13506.0</td>\n",
              "      <td>487.0</td>\n",
              "      <td>7004.0</td>\n",
              "      <td>0</td>\n",
              "    </tr>\n",
              "    <tr>\n",
              "      <th>1</th>\n",
              "      <td>204</td>\n",
              "      <td>120000.0</td>\n",
              "      <td>Male</td>\n",
              "      <td>University</td>\n",
              "      <td>Single</td>\n",
              "      <td>26</td>\n",
              "      <td>0</td>\n",
              "      <td>0</td>\n",
              "      <td>0</td>\n",
              "      <td>0</td>\n",
              "      <td>0</td>\n",
              "      <td>0</td>\n",
              "      <td>107314.0</td>\n",
              "      <td>110578.0</td>\n",
              "      <td>113736.0</td>\n",
              "      <td>116000.0</td>\n",
              "      <td>119131.0</td>\n",
              "      <td>122135.0</td>\n",
              "      <td>5000.0</td>\n",
              "      <td>5000.0</td>\n",
              "      <td>4152.0</td>\n",
              "      <td>5000.0</td>\n",
              "      <td>5000.0</td>\n",
              "      <td>5000.0</td>\n",
              "      <td>0</td>\n",
              "    </tr>\n",
              "  </tbody>\n",
              "</table>\n",
              "</div>"
            ],
            "text/plain": [
              "   rownumber  creditamount     sex        education marriage  age  paydelay1  \\\n",
              "0        203      140000.0  Female  Graduate School   Single   26         -1   \n",
              "1        204      120000.0    Male       University   Single   26          0   \n",
              "\n",
              "   paydelay2  paydelay3  paydelay4  paydelay5  paydelay6  bill_amt1  \\\n",
              "0          0         -1         -1         -1         -1    13424.0   \n",
              "1          0          0          0          0          0   107314.0   \n",
              "\n",
              "   bill_amt2  bill_amt3  bill_amt4  bill_amt5  bill_amt6  pay_amt1  pay_amt2  \\\n",
              "0    18000.0    13001.0     5818.0    13506.0      487.0   10000.0   13001.0   \n",
              "1   110578.0   113736.0   116000.0   119131.0   122135.0    5000.0    5000.0   \n",
              "\n",
              "   pay_amt3  pay_amt4  pay_amt5  pay_amt6 defaultnextmonth  \n",
              "0    5841.0   13506.0     487.0    7004.0                0  \n",
              "1    4152.0    5000.0    5000.0    5000.0                0  "
            ]
          },
          "metadata": {
            "tags": []
          },
          "execution_count": 59
        }
      ]
    },
    {
      "cell_type": "markdown",
      "metadata": {
        "id": "TSGYZEFvy2q4",
        "colab_type": "text"
      },
      "source": [
        "# deal with education contains number problem -- End"
      ]
    },
    {
      "cell_type": "markdown",
      "metadata": {
        "id": "LGftYLwu7LTD",
        "colab_type": "text"
      },
      "source": [
        "# Now check out the education diffierence between genders"
      ]
    },
    {
      "cell_type": "code",
      "metadata": {
        "id": "FwKYOEr7y2q5",
        "colab_type": "code",
        "colab": {}
      },
      "source": [
        "tempdf = new_df.groupby(['education', 'sex']).agg({'sex' : 'count' }).rename(columns={'sex' : 'sex_counts'}).reset_index()"
      ],
      "execution_count": 0,
      "outputs": []
    },
    {
      "cell_type": "code",
      "metadata": {
        "id": "S_JEeasQy2q7",
        "colab_type": "code",
        "colab": {
          "base_uri": "https://localhost:8080/",
          "height": 282
        },
        "outputId": "68ec04fb-a5c5-4a95-ec9d-3bf62ca1ebf3"
      },
      "source": [
        "tempdf"
      ],
      "execution_count": 61,
      "outputs": [
        {
          "output_type": "execute_result",
          "data": {
            "text/html": [
              "<div>\n",
              "<style scoped>\n",
              "    .dataframe tbody tr th:only-of-type {\n",
              "        vertical-align: middle;\n",
              "    }\n",
              "\n",
              "    .dataframe tbody tr th {\n",
              "        vertical-align: top;\n",
              "    }\n",
              "\n",
              "    .dataframe thead th {\n",
              "        text-align: right;\n",
              "    }\n",
              "</style>\n",
              "<table border=\"1\" class=\"dataframe\">\n",
              "  <thead>\n",
              "    <tr style=\"text-align: right;\">\n",
              "      <th></th>\n",
              "      <th>education</th>\n",
              "      <th>sex</th>\n",
              "      <th>sex_counts</th>\n",
              "    </tr>\n",
              "  </thead>\n",
              "  <tbody>\n",
              "    <tr>\n",
              "      <th>0</th>\n",
              "      <td>Below High School</td>\n",
              "      <td>Female</td>\n",
              "      <td>87</td>\n",
              "    </tr>\n",
              "    <tr>\n",
              "      <th>1</th>\n",
              "      <td>Below High School</td>\n",
              "      <td>Male</td>\n",
              "      <td>50</td>\n",
              "    </tr>\n",
              "    <tr>\n",
              "      <th>2</th>\n",
              "      <td>Graduate School</td>\n",
              "      <td>Female</td>\n",
              "      <td>6416</td>\n",
              "    </tr>\n",
              "    <tr>\n",
              "      <th>3</th>\n",
              "      <td>Graduate School</td>\n",
              "      <td>Male</td>\n",
              "      <td>4449</td>\n",
              "    </tr>\n",
              "    <tr>\n",
              "      <th>4</th>\n",
              "      <td>High School</td>\n",
              "      <td>Female</td>\n",
              "      <td>2927</td>\n",
              "    </tr>\n",
              "    <tr>\n",
              "      <th>5</th>\n",
              "      <td>High School</td>\n",
              "      <td>Male</td>\n",
              "      <td>1990</td>\n",
              "    </tr>\n",
              "    <tr>\n",
              "      <th>6</th>\n",
              "      <td>University</td>\n",
              "      <td>Female</td>\n",
              "      <td>8682</td>\n",
              "    </tr>\n",
              "    <tr>\n",
              "      <th>7</th>\n",
              "      <td>University</td>\n",
              "      <td>Male</td>\n",
              "      <td>5399</td>\n",
              "    </tr>\n",
              "  </tbody>\n",
              "</table>\n",
              "</div>"
            ],
            "text/plain": [
              "           education     sex  sex_counts\n",
              "0  Below High School  Female          87\n",
              "1  Below High School    Male          50\n",
              "2    Graduate School  Female        6416\n",
              "3    Graduate School    Male        4449\n",
              "4        High School  Female        2927\n",
              "5        High School    Male        1990\n",
              "6         University  Female        8682\n",
              "7         University    Male        5399"
            ]
          },
          "metadata": {
            "tags": []
          },
          "execution_count": 61
        }
      ]
    },
    {
      "cell_type": "code",
      "metadata": {
        "id": "jfMq4Diky2q9",
        "colab_type": "code",
        "colab": {
          "base_uri": "https://localhost:8080/",
          "height": 542
        },
        "outputId": "5faa79d5-1c73-4e09-e6e5-6d6e70f56e00"
      },
      "source": [
        "male_df = tempdf[tempdf['sex']=='Male']\n",
        "male_x = male_df['education']\n",
        "male_y = male_df['sex_counts']\n",
        "female_df = tempdf[tempdf['sex']=='Female']\n",
        "female_x = female_df['education']\n",
        "female_y = female_df['sex_counts']\n",
        "\n",
        "trace1 = go.Bar(\n",
        "    x=male_x,\n",
        "    y=male_y,\n",
        "    name='Male',\n",
        "    marker=dict(color='#f259d6'),\n",
        "    opacity=0.8\n",
        ")\n",
        "trace2 = go.Bar(\n",
        "    x=female_x,\n",
        "    y=female_y,\n",
        "    name='Female',\n",
        "    marker=dict(color='#f7bb31'),\n",
        "    opacity=0.8\n",
        ")\n",
        "\n",
        "data = [trace1, trace2]\n",
        "layout = go.Layout(\n",
        "    barmode='group',\n",
        "    legend=dict(dict(x=-.1, y=1.2)),\n",
        "    margin=dict(b=120),\n",
        "    title = 'States and the distribution of gender vs education',\n",
        ")\n",
        "\n",
        "fig = go.Figure(data=data, layout=layout)\n",
        "\n",
        "# show\n",
        "fig"
      ],
      "execution_count": 62,
      "outputs": [
        {
          "output_type": "display_data",
          "data": {
            "text/html": [
              "<html>\n",
              "<head><meta charset=\"utf-8\" /></head>\n",
              "<body>\n",
              "    <div>\n",
              "            <script src=\"https://cdnjs.cloudflare.com/ajax/libs/mathjax/2.7.5/MathJax.js?config=TeX-AMS-MML_SVG\"></script><script type=\"text/javascript\">if (window.MathJax) {MathJax.Hub.Config({SVG: {font: \"STIX-Web\"}});}</script>\n",
              "                <script type=\"text/javascript\">window.PlotlyConfig = {MathJaxConfig: 'local'};</script>\n",
              "        <script src=\"https://cdn.plot.ly/plotly-latest.min.js\"></script>    \n",
              "            <div id=\"10d2cac2-8716-4e3c-a00a-6ec2fb183f61\" class=\"plotly-graph-div\" style=\"height:525px; width:100%;\"></div>\n",
              "            <script type=\"text/javascript\">\n",
              "                \n",
              "                    window.PLOTLYENV=window.PLOTLYENV || {};\n",
              "                    \n",
              "                if (document.getElementById(\"10d2cac2-8716-4e3c-a00a-6ec2fb183f61\")) {\n",
              "                    Plotly.newPlot(\n",
              "                        '10d2cac2-8716-4e3c-a00a-6ec2fb183f61',\n",
              "                        [{\"marker\": {\"color\": \"#f259d6\"}, \"name\": \"Male\", \"opacity\": 0.8, \"type\": \"bar\", \"x\": [\"Below High School\", \"Graduate School\", \"High School\", \"University\"], \"y\": [50, 4449, 1990, 5399]}, {\"marker\": {\"color\": \"#f7bb31\"}, \"name\": \"Female\", \"opacity\": 0.8, \"type\": \"bar\", \"x\": [\"Below High School\", \"Graduate School\", \"High School\", \"University\"], \"y\": [87, 6416, 2927, 8682]}],\n",
              "                        {\"barmode\": \"group\", \"legend\": {\"x\": -0.1, \"y\": 1.2}, \"margin\": {\"b\": 120}, \"template\": {\"data\": {\"bar\": [{\"error_x\": {\"color\": \"#2a3f5f\"}, \"error_y\": {\"color\": \"#2a3f5f\"}, \"marker\": {\"line\": {\"color\": \"#E5ECF6\", \"width\": 0.5}}, \"type\": \"bar\"}], \"barpolar\": [{\"marker\": {\"line\": {\"color\": \"#E5ECF6\", \"width\": 0.5}}, \"type\": \"barpolar\"}], \"carpet\": [{\"aaxis\": {\"endlinecolor\": \"#2a3f5f\", \"gridcolor\": \"white\", \"linecolor\": \"white\", \"minorgridcolor\": \"white\", \"startlinecolor\": \"#2a3f5f\"}, \"baxis\": {\"endlinecolor\": \"#2a3f5f\", \"gridcolor\": \"white\", \"linecolor\": \"white\", \"minorgridcolor\": \"white\", \"startlinecolor\": \"#2a3f5f\"}, \"type\": \"carpet\"}], \"choropleth\": [{\"colorbar\": {\"outlinewidth\": 0, \"ticks\": \"\"}, \"type\": \"choropleth\"}], \"contour\": [{\"colorbar\": {\"outlinewidth\": 0, \"ticks\": \"\"}, \"colorscale\": [[0.0, \"#0d0887\"], [0.1111111111111111, \"#46039f\"], [0.2222222222222222, \"#7201a8\"], [0.3333333333333333, \"#9c179e\"], [0.4444444444444444, \"#bd3786\"], [0.5555555555555556, \"#d8576b\"], [0.6666666666666666, \"#ed7953\"], [0.7777777777777778, \"#fb9f3a\"], [0.8888888888888888, \"#fdca26\"], [1.0, \"#f0f921\"]], \"type\": \"contour\"}], \"contourcarpet\": [{\"colorbar\": {\"outlinewidth\": 0, \"ticks\": \"\"}, \"type\": \"contourcarpet\"}], \"heatmap\": [{\"colorbar\": {\"outlinewidth\": 0, \"ticks\": \"\"}, \"colorscale\": [[0.0, \"#0d0887\"], [0.1111111111111111, \"#46039f\"], [0.2222222222222222, \"#7201a8\"], [0.3333333333333333, \"#9c179e\"], [0.4444444444444444, \"#bd3786\"], [0.5555555555555556, \"#d8576b\"], [0.6666666666666666, \"#ed7953\"], [0.7777777777777778, \"#fb9f3a\"], [0.8888888888888888, \"#fdca26\"], [1.0, \"#f0f921\"]], \"type\": \"heatmap\"}], \"heatmapgl\": [{\"colorbar\": {\"outlinewidth\": 0, \"ticks\": \"\"}, \"colorscale\": [[0.0, \"#0d0887\"], [0.1111111111111111, \"#46039f\"], [0.2222222222222222, \"#7201a8\"], [0.3333333333333333, \"#9c179e\"], [0.4444444444444444, \"#bd3786\"], [0.5555555555555556, \"#d8576b\"], [0.6666666666666666, \"#ed7953\"], [0.7777777777777778, \"#fb9f3a\"], [0.8888888888888888, \"#fdca26\"], [1.0, \"#f0f921\"]], \"type\": \"heatmapgl\"}], \"histogram\": [{\"marker\": {\"colorbar\": {\"outlinewidth\": 0, \"ticks\": \"\"}}, \"type\": \"histogram\"}], \"histogram2d\": [{\"colorbar\": {\"outlinewidth\": 0, \"ticks\": \"\"}, \"colorscale\": [[0.0, \"#0d0887\"], [0.1111111111111111, \"#46039f\"], [0.2222222222222222, \"#7201a8\"], [0.3333333333333333, \"#9c179e\"], [0.4444444444444444, \"#bd3786\"], [0.5555555555555556, \"#d8576b\"], [0.6666666666666666, \"#ed7953\"], [0.7777777777777778, \"#fb9f3a\"], [0.8888888888888888, \"#fdca26\"], [1.0, \"#f0f921\"]], \"type\": \"histogram2d\"}], \"histogram2dcontour\": [{\"colorbar\": {\"outlinewidth\": 0, \"ticks\": \"\"}, \"colorscale\": [[0.0, \"#0d0887\"], [0.1111111111111111, \"#46039f\"], [0.2222222222222222, \"#7201a8\"], [0.3333333333333333, \"#9c179e\"], [0.4444444444444444, \"#bd3786\"], [0.5555555555555556, \"#d8576b\"], [0.6666666666666666, \"#ed7953\"], [0.7777777777777778, \"#fb9f3a\"], [0.8888888888888888, \"#fdca26\"], [1.0, \"#f0f921\"]], \"type\": \"histogram2dcontour\"}], \"mesh3d\": [{\"colorbar\": {\"outlinewidth\": 0, \"ticks\": \"\"}, \"type\": \"mesh3d\"}], \"parcoords\": [{\"line\": {\"colorbar\": {\"outlinewidth\": 0, \"ticks\": \"\"}}, \"type\": \"parcoords\"}], \"pie\": [{\"automargin\": true, \"type\": \"pie\"}], \"scatter\": [{\"marker\": {\"colorbar\": {\"outlinewidth\": 0, \"ticks\": \"\"}}, \"type\": \"scatter\"}], \"scatter3d\": [{\"line\": {\"colorbar\": {\"outlinewidth\": 0, \"ticks\": \"\"}}, \"marker\": {\"colorbar\": {\"outlinewidth\": 0, \"ticks\": \"\"}}, \"type\": \"scatter3d\"}], \"scattercarpet\": [{\"marker\": {\"colorbar\": {\"outlinewidth\": 0, \"ticks\": \"\"}}, \"type\": \"scattercarpet\"}], \"scattergeo\": [{\"marker\": {\"colorbar\": {\"outlinewidth\": 0, \"ticks\": \"\"}}, \"type\": \"scattergeo\"}], \"scattergl\": [{\"marker\": {\"colorbar\": {\"outlinewidth\": 0, \"ticks\": \"\"}}, \"type\": \"scattergl\"}], \"scattermapbox\": [{\"marker\": {\"colorbar\": {\"outlinewidth\": 0, \"ticks\": \"\"}}, \"type\": \"scattermapbox\"}], \"scatterpolar\": [{\"marker\": {\"colorbar\": {\"outlinewidth\": 0, \"ticks\": \"\"}}, \"type\": \"scatterpolar\"}], \"scatterpolargl\": [{\"marker\": {\"colorbar\": {\"outlinewidth\": 0, \"ticks\": \"\"}}, \"type\": \"scatterpolargl\"}], \"scatterternary\": [{\"marker\": {\"colorbar\": {\"outlinewidth\": 0, \"ticks\": \"\"}}, \"type\": \"scatterternary\"}], \"surface\": [{\"colorbar\": {\"outlinewidth\": 0, \"ticks\": \"\"}, \"colorscale\": [[0.0, \"#0d0887\"], [0.1111111111111111, \"#46039f\"], [0.2222222222222222, \"#7201a8\"], [0.3333333333333333, \"#9c179e\"], [0.4444444444444444, \"#bd3786\"], [0.5555555555555556, \"#d8576b\"], [0.6666666666666666, \"#ed7953\"], [0.7777777777777778, \"#fb9f3a\"], [0.8888888888888888, \"#fdca26\"], [1.0, \"#f0f921\"]], \"type\": \"surface\"}], \"table\": [{\"cells\": {\"fill\": {\"color\": \"#EBF0F8\"}, \"line\": {\"color\": \"white\"}}, \"header\": {\"fill\": {\"color\": \"#C8D4E3\"}, \"line\": {\"color\": \"white\"}}, \"type\": \"table\"}]}, \"layout\": {\"annotationdefaults\": {\"arrowcolor\": \"#2a3f5f\", \"arrowhead\": 0, \"arrowwidth\": 1}, \"coloraxis\": {\"colorbar\": {\"outlinewidth\": 0, \"ticks\": \"\"}}, \"colorscale\": {\"diverging\": [[0, \"#8e0152\"], [0.1, \"#c51b7d\"], [0.2, \"#de77ae\"], [0.3, \"#f1b6da\"], [0.4, \"#fde0ef\"], [0.5, \"#f7f7f7\"], [0.6, \"#e6f5d0\"], [0.7, \"#b8e186\"], [0.8, \"#7fbc41\"], [0.9, \"#4d9221\"], [1, \"#276419\"]], \"sequential\": [[0.0, \"#0d0887\"], [0.1111111111111111, \"#46039f\"], [0.2222222222222222, \"#7201a8\"], [0.3333333333333333, \"#9c179e\"], [0.4444444444444444, \"#bd3786\"], [0.5555555555555556, \"#d8576b\"], [0.6666666666666666, \"#ed7953\"], [0.7777777777777778, \"#fb9f3a\"], [0.8888888888888888, \"#fdca26\"], [1.0, \"#f0f921\"]], \"sequentialminus\": [[0.0, \"#0d0887\"], [0.1111111111111111, \"#46039f\"], [0.2222222222222222, \"#7201a8\"], [0.3333333333333333, \"#9c179e\"], [0.4444444444444444, \"#bd3786\"], [0.5555555555555556, \"#d8576b\"], [0.6666666666666666, \"#ed7953\"], [0.7777777777777778, \"#fb9f3a\"], [0.8888888888888888, \"#fdca26\"], [1.0, \"#f0f921\"]]}, \"colorway\": [\"#636efa\", \"#EF553B\", \"#00cc96\", \"#ab63fa\", \"#FFA15A\", \"#19d3f3\", \"#FF6692\", \"#B6E880\", \"#FF97FF\", \"#FECB52\"], \"font\": {\"color\": \"#2a3f5f\"}, \"geo\": {\"bgcolor\": \"white\", \"lakecolor\": \"white\", \"landcolor\": \"#E5ECF6\", \"showlakes\": true, \"showland\": true, \"subunitcolor\": \"white\"}, \"hoverlabel\": {\"align\": \"left\"}, \"hovermode\": \"closest\", \"mapbox\": {\"style\": \"light\"}, \"paper_bgcolor\": \"white\", \"plot_bgcolor\": \"#E5ECF6\", \"polar\": {\"angularaxis\": {\"gridcolor\": \"white\", \"linecolor\": \"white\", \"ticks\": \"\"}, \"bgcolor\": \"#E5ECF6\", \"radialaxis\": {\"gridcolor\": \"white\", \"linecolor\": \"white\", \"ticks\": \"\"}}, \"scene\": {\"xaxis\": {\"backgroundcolor\": \"#E5ECF6\", \"gridcolor\": \"white\", \"gridwidth\": 2, \"linecolor\": \"white\", \"showbackground\": true, \"ticks\": \"\", \"zerolinecolor\": \"white\"}, \"yaxis\": {\"backgroundcolor\": \"#E5ECF6\", \"gridcolor\": \"white\", \"gridwidth\": 2, \"linecolor\": \"white\", \"showbackground\": true, \"ticks\": \"\", \"zerolinecolor\": \"white\"}, \"zaxis\": {\"backgroundcolor\": \"#E5ECF6\", \"gridcolor\": \"white\", \"gridwidth\": 2, \"linecolor\": \"white\", \"showbackground\": true, \"ticks\": \"\", \"zerolinecolor\": \"white\"}}, \"shapedefaults\": {\"line\": {\"color\": \"#2a3f5f\"}}, \"ternary\": {\"aaxis\": {\"gridcolor\": \"white\", \"linecolor\": \"white\", \"ticks\": \"\"}, \"baxis\": {\"gridcolor\": \"white\", \"linecolor\": \"white\", \"ticks\": \"\"}, \"bgcolor\": \"#E5ECF6\", \"caxis\": {\"gridcolor\": \"white\", \"linecolor\": \"white\", \"ticks\": \"\"}}, \"title\": {\"x\": 0.05}, \"xaxis\": {\"automargin\": true, \"gridcolor\": \"white\", \"linecolor\": \"white\", \"ticks\": \"\", \"title\": {\"standoff\": 15}, \"zerolinecolor\": \"white\", \"zerolinewidth\": 2}, \"yaxis\": {\"automargin\": true, \"gridcolor\": \"white\", \"linecolor\": \"white\", \"ticks\": \"\", \"title\": {\"standoff\": 15}, \"zerolinecolor\": \"white\", \"zerolinewidth\": 2}}}, \"title\": {\"text\": \"States and the distribution of gender vs education\"}},\n",
              "                        {\"responsive\": true}\n",
              "                    ).then(function(){\n",
              "                            \n",
              "var gd = document.getElementById('10d2cac2-8716-4e3c-a00a-6ec2fb183f61');\n",
              "var x = new MutationObserver(function (mutations, observer) {{\n",
              "        var display = window.getComputedStyle(gd).display;\n",
              "        if (!display || display === 'none') {{\n",
              "            console.log([gd, 'removed!']);\n",
              "            Plotly.purge(gd);\n",
              "            observer.disconnect();\n",
              "        }}\n",
              "}});\n",
              "\n",
              "// Listen for the removal of the full notebook cells\n",
              "var notebookContainer = gd.closest('#notebook-container');\n",
              "if (notebookContainer) {{\n",
              "    x.observe(notebookContainer, {childList: true});\n",
              "}}\n",
              "\n",
              "// Listen for the clearing of the current output cell\n",
              "var outputEl = gd.closest('.output');\n",
              "if (outputEl) {{\n",
              "    x.observe(outputEl, {childList: true});\n",
              "}}\n",
              "\n",
              "                        })\n",
              "                };\n",
              "                \n",
              "            </script>\n",
              "        </div>\n",
              "</body>\n",
              "</html>"
            ]
          },
          "metadata": {
            "tags": []
          }
        }
      ]
    },
    {
      "cell_type": "markdown",
      "metadata": {
        "id": "BXim6s-5y2q_",
        "colab_type": "text"
      },
      "source": [
        "# Second Part -- feature selection"
      ]
    },
    {
      "cell_type": "markdown",
      "metadata": {
        "id": "kLttzZdby2q_",
        "colab_type": "text"
      },
      "source": [
        "1. Heatplot"
      ]
    },
    {
      "cell_type": "code",
      "metadata": {
        "id": "6PTfCJvGy2rA",
        "colab_type": "code",
        "colab": {
          "base_uri": "https://localhost:8080/",
          "height": 788
        },
        "outputId": "7924cd64-b0cf-44b5-a4e6-46df9e6f5b4a"
      },
      "source": [
        "#correlation matrix\n",
        "corrmat = new_df.corr()\n",
        "f, ax = plt.subplots(figsize=(18, 12))\n",
        "sns.heatmap(corrmat, vmax=.8, square=True) # with the correlation value show:  annot = True"
      ],
      "execution_count": 63,
      "outputs": [
        {
          "output_type": "execute_result",
          "data": {
            "text/plain": [
              "<matplotlib.axes._subplots.AxesSubplot at 0x7f3207252ef0>"
            ]
          },
          "metadata": {
            "tags": []
          },
          "execution_count": 63
        },
        {
          "output_type": "display_data",
          "data": {
            "image/png": "[encoded data removed]",
            "text/plain": [
              "<Figure size 1296x864 with 2 Axes>"
            ]
          },
          "metadata": {
            "tags": []
          }
        }
      ]
    },
    {
      "cell_type": "code",
      "metadata": {
        "id": "-fceygZyy2rC",
        "colab_type": "code",
        "colab": {}
      },
      "source": [
        "# OK, so we see a pool of white area which stands for high correlation. they need to be discarded. \n",
        "\n",
        "# discard column bill_amt1, bill_amt2, bill_amt3, bill_amt4, bill_amt5, bill_amt6.\n",
        "new_df = new_df.drop([\"bill_amt1\", \"bill_amt2\", \"bill_amt3\", \"bill_amt4\", \"bill_amt5\", \"bill_amt6\"], axis = 1)"
      ],
      "execution_count": 0,
      "outputs": []
    },
    {
      "cell_type": "code",
      "metadata": {
        "id": "0OcB-znBy2rE",
        "colab_type": "code",
        "colab": {
          "base_uri": "https://localhost:8080/",
          "height": 788
        },
        "outputId": "1be1d550-e026-4d17-d227-917b3f7bf31a"
      },
      "source": [
        "#correlation matrix\n",
        "corrmat = new_df.corr()\n",
        "f, ax = plt.subplots(figsize=(18, 12))\n",
        "sns.heatmap(corrmat, vmax=.8, square=True) # with the correlation value show:  annot = True"
      ],
      "execution_count": 65,
      "outputs": [
        {
          "output_type": "execute_result",
          "data": {
            "text/plain": [
              "<matplotlib.axes._subplots.AxesSubplot at 0x7f3207072630>"
            ]
          },
          "metadata": {
            "tags": []
          },
          "execution_count": 65
        },
        {
          "output_type": "display_data",
          "data": {
            "image/png": "[encoded data removed]",
            "text/plain": [
              "<Figure size 1296x864 with 2 Axes>"
            ]
          },
          "metadata": {
            "tags": []
          }
        }
      ]
    },
    {
      "cell_type": "code",
      "metadata": {
        "id": "UdUY7Pe9y2rG",
        "colab_type": "code",
        "colab": {
          "base_uri": "https://localhost:8080/",
          "height": 143
        },
        "outputId": "92d9493b-a43d-4274-eba3-8819709a1d9f"
      },
      "source": [
        "new_df.head(2)"
      ],
      "execution_count": 66,
      "outputs": [
        {
          "output_type": "execute_result",
          "data": {
            "text/html": [
              "<div>\n",
              "<style scoped>\n",
              "    .dataframe tbody tr th:only-of-type {\n",
              "        vertical-align: middle;\n",
              "    }\n",
              "\n",
              "    .dataframe tbody tr th {\n",
              "        vertical-align: top;\n",
              "    }\n",
              "\n",
              "    .dataframe thead th {\n",
              "        text-align: right;\n",
              "    }\n",
              "</style>\n",
              "<table border=\"1\" class=\"dataframe\">\n",
              "  <thead>\n",
              "    <tr style=\"text-align: right;\">\n",
              "      <th></th>\n",
              "      <th>rownumber</th>\n",
              "      <th>creditamount</th>\n",
              "      <th>sex</th>\n",
              "      <th>education</th>\n",
              "      <th>marriage</th>\n",
              "      <th>age</th>\n",
              "      <th>paydelay1</th>\n",
              "      <th>paydelay2</th>\n",
              "      <th>paydelay3</th>\n",
              "      <th>paydelay4</th>\n",
              "      <th>paydelay5</th>\n",
              "      <th>paydelay6</th>\n",
              "      <th>pay_amt1</th>\n",
              "      <th>pay_amt2</th>\n",
              "      <th>pay_amt3</th>\n",
              "      <th>pay_amt4</th>\n",
              "      <th>pay_amt5</th>\n",
              "      <th>pay_amt6</th>\n",
              "      <th>defaultnextmonth</th>\n",
              "    </tr>\n",
              "  </thead>\n",
              "  <tbody>\n",
              "    <tr>\n",
              "      <th>0</th>\n",
              "      <td>203</td>\n",
              "      <td>140000.0</td>\n",
              "      <td>Female</td>\n",
              "      <td>Graduate School</td>\n",
              "      <td>Single</td>\n",
              "      <td>26</td>\n",
              "      <td>-1</td>\n",
              "      <td>0</td>\n",
              "      <td>-1</td>\n",
              "      <td>-1</td>\n",
              "      <td>-1</td>\n",
              "      <td>-1</td>\n",
              "      <td>10000.0</td>\n",
              "      <td>13001.0</td>\n",
              "      <td>5841.0</td>\n",
              "      <td>13506.0</td>\n",
              "      <td>487.0</td>\n",
              "      <td>7004.0</td>\n",
              "      <td>0</td>\n",
              "    </tr>\n",
              "    <tr>\n",
              "      <th>1</th>\n",
              "      <td>204</td>\n",
              "      <td>120000.0</td>\n",
              "      <td>Male</td>\n",
              "      <td>University</td>\n",
              "      <td>Single</td>\n",
              "      <td>26</td>\n",
              "      <td>0</td>\n",
              "      <td>0</td>\n",
              "      <td>0</td>\n",
              "      <td>0</td>\n",
              "      <td>0</td>\n",
              "      <td>0</td>\n",
              "      <td>5000.0</td>\n",
              "      <td>5000.0</td>\n",
              "      <td>4152.0</td>\n",
              "      <td>5000.0</td>\n",
              "      <td>5000.0</td>\n",
              "      <td>5000.0</td>\n",
              "      <td>0</td>\n",
              "    </tr>\n",
              "  </tbody>\n",
              "</table>\n",
              "</div>"
            ],
            "text/plain": [
              "   rownumber  creditamount     sex        education marriage  age  paydelay1  \\\n",
              "0        203      140000.0  Female  Graduate School   Single   26         -1   \n",
              "1        204      120000.0    Male       University   Single   26          0   \n",
              "\n",
              "   paydelay2  paydelay3  paydelay4  paydelay5  paydelay6  pay_amt1  pay_amt2  \\\n",
              "0          0         -1         -1         -1         -1   10000.0   13001.0   \n",
              "1          0          0          0          0          0    5000.0    5000.0   \n",
              "\n",
              "   pay_amt3  pay_amt4  pay_amt5  pay_amt6 defaultnextmonth  \n",
              "0    5841.0   13506.0     487.0    7004.0                0  \n",
              "1    4152.0    5000.0    5000.0    5000.0                0  "
            ]
          },
          "metadata": {
            "tags": []
          },
          "execution_count": 66
        }
      ]
    },
    {
      "cell_type": "code",
      "metadata": {
        "id": "4muE8fxay2rK",
        "colab_type": "code",
        "colab": {}
      },
      "source": [
        "# paydelay 2 - 5 looks suspecious. using another way to test."
      ],
      "execution_count": 0,
      "outputs": []
    },
    {
      "cell_type": "markdown",
      "metadata": {
        "id": "rcY3ZJqAy2rM",
        "colab_type": "text"
      },
      "source": [
        "# subset(), stepwise, PCA, ElasticNet, Lasso, Rridge"
      ]
    },
    {
      "cell_type": "code",
      "metadata": {
        "id": "3xJXlgjiy2rN",
        "colab_type": "code",
        "colab": {}
      },
      "source": [
        "df.columns = map(str.lower, df.columns)"
      ],
      "execution_count": 0,
      "outputs": []
    },
    {
      "cell_type": "code",
      "metadata": {
        "id": "a3crvu2-y2rP",
        "colab_type": "code",
        "colab": {}
      },
      "source": [
        "new_df = df"
      ],
      "execution_count": 0,
      "outputs": []
    },
    {
      "cell_type": "code",
      "metadata": {
        "id": "GRZ8_IL4y2rR",
        "colab_type": "code",
        "colab": {}
      },
      "source": [
        "new_df_cat = new_df.astype({\"sex\":'category', \"education\":'category', \"marriage\":'category', \"defaultnextmonth\":\"int\"})"
      ],
      "execution_count": 0,
      "outputs": []
    },
    {
      "cell_type": "code",
      "metadata": {
        "id": "YgEA-W58y2rT",
        "colab_type": "code",
        "colab": {}
      },
      "source": [
        "replace_values = {'0' : \"Below High School\", '5' : \"Graduate School\", '6' : \"University\" }                                                                                          \n",
        "\n",
        "new_df_cat = new_df_cat.replace({\"education\": replace_values})                                                                                             \n",
        "\n",
        "new_df_cat[\"education\"].unique()\n",
        "\n",
        "new_df_short = new_df_cat.drop([\"bill_amt1\", \"bill_amt2\", \"bill_amt3\", \"bill_amt4\", \"bill_amt5\", \"bill_amt6\"], axis = 1)"
      ],
      "execution_count": 0,
      "outputs": []
    },
    {
      "cell_type": "code",
      "metadata": {
        "id": "WfePtjY8y2rV",
        "colab_type": "code",
        "colab": {
          "base_uri": "https://localhost:8080/",
          "height": 106
        },
        "outputId": "590291f5-717a-4c30-8eb9-65d7e8e28856"
      },
      "source": [
        "# Here, convert categorical data via one-hot encoding. \n",
        "temp = new_df_short.loc[:,[\"sex\", \"education\", \"marriage\"]]\n",
        "temp.head(2)"
      ],
      "execution_count": 72,
      "outputs": [
        {
          "output_type": "execute_result",
          "data": {
            "text/html": [
              "<div>\n",
              "<style scoped>\n",
              "    .dataframe tbody tr th:only-of-type {\n",
              "        vertical-align: middle;\n",
              "    }\n",
              "\n",
              "    .dataframe tbody tr th {\n",
              "        vertical-align: top;\n",
              "    }\n",
              "\n",
              "    .dataframe thead th {\n",
              "        text-align: right;\n",
              "    }\n",
              "</style>\n",
              "<table border=\"1\" class=\"dataframe\">\n",
              "  <thead>\n",
              "    <tr style=\"text-align: right;\">\n",
              "      <th></th>\n",
              "      <th>sex</th>\n",
              "      <th>education</th>\n",
              "      <th>marriage</th>\n",
              "    </tr>\n",
              "  </thead>\n",
              "  <tbody>\n",
              "    <tr>\n",
              "      <th>0</th>\n",
              "      <td>Female</td>\n",
              "      <td>Graduate School</td>\n",
              "      <td>Single</td>\n",
              "    </tr>\n",
              "    <tr>\n",
              "      <th>1</th>\n",
              "      <td>Male</td>\n",
              "      <td>University</td>\n",
              "      <td>Single</td>\n",
              "    </tr>\n",
              "  </tbody>\n",
              "</table>\n",
              "</div>"
            ],
            "text/plain": [
              "      sex        education marriage\n",
              "0  Female  Graduate School   Single\n",
              "1    Male       University   Single"
            ]
          },
          "metadata": {
            "tags": []
          },
          "execution_count": 72
        }
      ]
    },
    {
      "cell_type": "code",
      "metadata": {
        "id": "9CD0ffnty2rX",
        "colab_type": "code",
        "colab": {}
      },
      "source": [
        "temp = pd.get_dummies(temp)"
      ],
      "execution_count": 0,
      "outputs": []
    },
    {
      "cell_type": "code",
      "metadata": {
        "id": "WPFT-tf2y2ra",
        "colab_type": "code",
        "colab": {
          "base_uri": "https://localhost:8080/",
          "height": 416
        },
        "outputId": "a95fe59e-a429-4290-b742-4ff6483cd795"
      },
      "source": [
        "temp"
      ],
      "execution_count": 74,
      "outputs": [
        {
          "output_type": "execute_result",
          "data": {
            "text/html": [
              "<div>\n",
              "<style scoped>\n",
              "    .dataframe tbody tr th:only-of-type {\n",
              "        vertical-align: middle;\n",
              "    }\n",
              "\n",
              "    .dataframe tbody tr th {\n",
              "        vertical-align: top;\n",
              "    }\n",
              "\n",
              "    .dataframe thead th {\n",
              "        text-align: right;\n",
              "    }\n",
              "</style>\n",
              "<table border=\"1\" class=\"dataframe\">\n",
              "  <thead>\n",
              "    <tr style=\"text-align: right;\">\n",
              "      <th></th>\n",
              "      <th>sex_Female</th>\n",
              "      <th>sex_Male</th>\n",
              "      <th>education_Below High School</th>\n",
              "      <th>education_Graduate School</th>\n",
              "      <th>education_High School</th>\n",
              "      <th>education_University</th>\n",
              "      <th>marriage_0</th>\n",
              "      <th>marriage_Married</th>\n",
              "      <th>marriage_Other</th>\n",
              "      <th>marriage_Single</th>\n",
              "    </tr>\n",
              "  </thead>\n",
              "  <tbody>\n",
              "    <tr>\n",
              "      <th>0</th>\n",
              "      <td>1</td>\n",
              "      <td>0</td>\n",
              "      <td>0</td>\n",
              "      <td>1</td>\n",
              "      <td>0</td>\n",
              "      <td>0</td>\n",
              "      <td>0</td>\n",
              "      <td>0</td>\n",
              "      <td>0</td>\n",
              "      <td>1</td>\n",
              "    </tr>\n",
              "    <tr>\n",
              "      <th>1</th>\n",
              "      <td>0</td>\n",
              "      <td>1</td>\n",
              "      <td>0</td>\n",
              "      <td>0</td>\n",
              "      <td>0</td>\n",
              "      <td>1</td>\n",
              "      <td>0</td>\n",
              "      <td>0</td>\n",
              "      <td>0</td>\n",
              "      <td>1</td>\n",
              "    </tr>\n",
              "    <tr>\n",
              "      <th>2</th>\n",
              "      <td>1</td>\n",
              "      <td>0</td>\n",
              "      <td>0</td>\n",
              "      <td>0</td>\n",
              "      <td>0</td>\n",
              "      <td>1</td>\n",
              "      <td>0</td>\n",
              "      <td>1</td>\n",
              "      <td>0</td>\n",
              "      <td>0</td>\n",
              "    </tr>\n",
              "    <tr>\n",
              "      <th>3</th>\n",
              "      <td>0</td>\n",
              "      <td>1</td>\n",
              "      <td>0</td>\n",
              "      <td>0</td>\n",
              "      <td>1</td>\n",
              "      <td>0</td>\n",
              "      <td>0</td>\n",
              "      <td>1</td>\n",
              "      <td>0</td>\n",
              "      <td>0</td>\n",
              "    </tr>\n",
              "    <tr>\n",
              "      <th>4</th>\n",
              "      <td>0</td>\n",
              "      <td>1</td>\n",
              "      <td>0</td>\n",
              "      <td>1</td>\n",
              "      <td>0</td>\n",
              "      <td>0</td>\n",
              "      <td>0</td>\n",
              "      <td>1</td>\n",
              "      <td>0</td>\n",
              "      <td>0</td>\n",
              "    </tr>\n",
              "    <tr>\n",
              "      <th>...</th>\n",
              "      <td>...</td>\n",
              "      <td>...</td>\n",
              "      <td>...</td>\n",
              "      <td>...</td>\n",
              "      <td>...</td>\n",
              "      <td>...</td>\n",
              "      <td>...</td>\n",
              "      <td>...</td>\n",
              "      <td>...</td>\n",
              "      <td>...</td>\n",
              "    </tr>\n",
              "    <tr>\n",
              "      <th>29995</th>\n",
              "      <td>0</td>\n",
              "      <td>1</td>\n",
              "      <td>0</td>\n",
              "      <td>1</td>\n",
              "      <td>0</td>\n",
              "      <td>0</td>\n",
              "      <td>0</td>\n",
              "      <td>0</td>\n",
              "      <td>0</td>\n",
              "      <td>1</td>\n",
              "    </tr>\n",
              "    <tr>\n",
              "      <th>29996</th>\n",
              "      <td>0</td>\n",
              "      <td>1</td>\n",
              "      <td>0</td>\n",
              "      <td>1</td>\n",
              "      <td>0</td>\n",
              "      <td>0</td>\n",
              "      <td>0</td>\n",
              "      <td>1</td>\n",
              "      <td>0</td>\n",
              "      <td>0</td>\n",
              "    </tr>\n",
              "    <tr>\n",
              "      <th>29997</th>\n",
              "      <td>0</td>\n",
              "      <td>1</td>\n",
              "      <td>0</td>\n",
              "      <td>1</td>\n",
              "      <td>0</td>\n",
              "      <td>0</td>\n",
              "      <td>0</td>\n",
              "      <td>1</td>\n",
              "      <td>0</td>\n",
              "      <td>0</td>\n",
              "    </tr>\n",
              "    <tr>\n",
              "      <th>29998</th>\n",
              "      <td>0</td>\n",
              "      <td>1</td>\n",
              "      <td>0</td>\n",
              "      <td>0</td>\n",
              "      <td>0</td>\n",
              "      <td>1</td>\n",
              "      <td>0</td>\n",
              "      <td>1</td>\n",
              "      <td>0</td>\n",
              "      <td>0</td>\n",
              "    </tr>\n",
              "    <tr>\n",
              "      <th>29999</th>\n",
              "      <td>0</td>\n",
              "      <td>1</td>\n",
              "      <td>0</td>\n",
              "      <td>1</td>\n",
              "      <td>0</td>\n",
              "      <td>0</td>\n",
              "      <td>0</td>\n",
              "      <td>1</td>\n",
              "      <td>0</td>\n",
              "      <td>0</td>\n",
              "    </tr>\n",
              "  </tbody>\n",
              "</table>\n",
              "<p>30000 rows × 10 columns</p>\n",
              "</div>"
            ],
            "text/plain": [
              "       sex_Female  sex_Male  education_Below High School  \\\n",
              "0               1         0                            0   \n",
              "1               0         1                            0   \n",
              "2               1         0                            0   \n",
              "3               0         1                            0   \n",
              "4               0         1                            0   \n",
              "...           ...       ...                          ...   \n",
              "29995           0         1                            0   \n",
              "29996           0         1                            0   \n",
              "29997           0         1                            0   \n",
              "29998           0         1                            0   \n",
              "29999           0         1                            0   \n",
              "\n",
              "       education_Graduate School  education_High School  education_University  \\\n",
              "0                              1                      0                     0   \n",
              "1                              0                      0                     1   \n",
              "2                              0                      0                     1   \n",
              "3                              0                      1                     0   \n",
              "4                              1                      0                     0   \n",
              "...                          ...                    ...                   ...   \n",
              "29995                          1                      0                     0   \n",
              "29996                          1                      0                     0   \n",
              "29997                          1                      0                     0   \n",
              "29998                          0                      0                     1   \n",
              "29999                          1                      0                     0   \n",
              "\n",
              "       marriage_0  marriage_Married  marriage_Other  marriage_Single  \n",
              "0               0                 0               0                1  \n",
              "1               0                 0               0                1  \n",
              "2               0                 1               0                0  \n",
              "3               0                 1               0                0  \n",
              "4               0                 1               0                0  \n",
              "...           ...               ...             ...              ...  \n",
              "29995           0                 0               0                1  \n",
              "29996           0                 1               0                0  \n",
              "29997           0                 1               0                0  \n",
              "29998           0                 1               0                0  \n",
              "29999           0                 1               0                0  \n",
              "\n",
              "[30000 rows x 10 columns]"
            ]
          },
          "metadata": {
            "tags": []
          },
          "execution_count": 74
        }
      ]
    },
    {
      "cell_type": "code",
      "metadata": {
        "id": "4vQU4uNay2rc",
        "colab_type": "code",
        "colab": {}
      },
      "source": [
        "merge_df = pd.merge(new_df_short, temp, left_index=True, right_index = True)"
      ],
      "execution_count": 0,
      "outputs": []
    },
    {
      "cell_type": "code",
      "metadata": {
        "id": "DVsUfFUCy2re",
        "colab_type": "code",
        "colab": {
          "base_uri": "https://localhost:8080/",
          "height": 160
        },
        "outputId": "23988036-cb65-4e0a-fb9c-2c702cef9372"
      },
      "source": [
        "merge_df.head(2)"
      ],
      "execution_count": 76,
      "outputs": [
        {
          "output_type": "execute_result",
          "data": {
            "text/html": [
              "<div>\n",
              "<style scoped>\n",
              "    .dataframe tbody tr th:only-of-type {\n",
              "        vertical-align: middle;\n",
              "    }\n",
              "\n",
              "    .dataframe tbody tr th {\n",
              "        vertical-align: top;\n",
              "    }\n",
              "\n",
              "    .dataframe thead th {\n",
              "        text-align: right;\n",
              "    }\n",
              "</style>\n",
              "<table border=\"1\" class=\"dataframe\">\n",
              "  <thead>\n",
              "    <tr style=\"text-align: right;\">\n",
              "      <th></th>\n",
              "      <th>rownumber</th>\n",
              "      <th>creditamount</th>\n",
              "      <th>sex</th>\n",
              "      <th>education</th>\n",
              "      <th>marriage</th>\n",
              "      <th>age</th>\n",
              "      <th>paydelay1</th>\n",
              "      <th>paydelay2</th>\n",
              "      <th>paydelay3</th>\n",
              "      <th>paydelay4</th>\n",
              "      <th>paydelay5</th>\n",
              "      <th>paydelay6</th>\n",
              "      <th>pay_amt1</th>\n",
              "      <th>pay_amt2</th>\n",
              "      <th>pay_amt3</th>\n",
              "      <th>pay_amt4</th>\n",
              "      <th>pay_amt5</th>\n",
              "      <th>pay_amt6</th>\n",
              "      <th>defaultnextmonth</th>\n",
              "      <th>sex_Female</th>\n",
              "      <th>sex_Male</th>\n",
              "      <th>education_Below High School</th>\n",
              "      <th>education_Graduate School</th>\n",
              "      <th>education_High School</th>\n",
              "      <th>education_University</th>\n",
              "      <th>marriage_0</th>\n",
              "      <th>marriage_Married</th>\n",
              "      <th>marriage_Other</th>\n",
              "      <th>marriage_Single</th>\n",
              "    </tr>\n",
              "  </thead>\n",
              "  <tbody>\n",
              "    <tr>\n",
              "      <th>0</th>\n",
              "      <td>203</td>\n",
              "      <td>140000.0</td>\n",
              "      <td>Female</td>\n",
              "      <td>Graduate School</td>\n",
              "      <td>Single</td>\n",
              "      <td>26</td>\n",
              "      <td>-1</td>\n",
              "      <td>0</td>\n",
              "      <td>-1</td>\n",
              "      <td>-1</td>\n",
              "      <td>-1</td>\n",
              "      <td>-1</td>\n",
              "      <td>10000.0</td>\n",
              "      <td>13001.0</td>\n",
              "      <td>5841.0</td>\n",
              "      <td>13506.0</td>\n",
              "      <td>487.0</td>\n",
              "      <td>7004.0</td>\n",
              "      <td>0</td>\n",
              "      <td>1</td>\n",
              "      <td>0</td>\n",
              "      <td>0</td>\n",
              "      <td>1</td>\n",
              "      <td>0</td>\n",
              "      <td>0</td>\n",
              "      <td>0</td>\n",
              "      <td>0</td>\n",
              "      <td>0</td>\n",
              "      <td>1</td>\n",
              "    </tr>\n",
              "    <tr>\n",
              "      <th>1</th>\n",
              "      <td>204</td>\n",
              "      <td>120000.0</td>\n",
              "      <td>Male</td>\n",
              "      <td>University</td>\n",
              "      <td>Single</td>\n",
              "      <td>26</td>\n",
              "      <td>0</td>\n",
              "      <td>0</td>\n",
              "      <td>0</td>\n",
              "      <td>0</td>\n",
              "      <td>0</td>\n",
              "      <td>0</td>\n",
              "      <td>5000.0</td>\n",
              "      <td>5000.0</td>\n",
              "      <td>4152.0</td>\n",
              "      <td>5000.0</td>\n",
              "      <td>5000.0</td>\n",
              "      <td>5000.0</td>\n",
              "      <td>0</td>\n",
              "      <td>0</td>\n",
              "      <td>1</td>\n",
              "      <td>0</td>\n",
              "      <td>0</td>\n",
              "      <td>0</td>\n",
              "      <td>1</td>\n",
              "      <td>0</td>\n",
              "      <td>0</td>\n",
              "      <td>0</td>\n",
              "      <td>1</td>\n",
              "    </tr>\n",
              "  </tbody>\n",
              "</table>\n",
              "</div>"
            ],
            "text/plain": [
              "   rownumber  creditamount     sex        education marriage  age  paydelay1  \\\n",
              "0        203      140000.0  Female  Graduate School   Single   26         -1   \n",
              "1        204      120000.0    Male       University   Single   26          0   \n",
              "\n",
              "   paydelay2  paydelay3  paydelay4  paydelay5  paydelay6  pay_amt1  pay_amt2  \\\n",
              "0          0         -1         -1         -1         -1   10000.0   13001.0   \n",
              "1          0          0          0          0          0    5000.0    5000.0   \n",
              "\n",
              "   pay_amt3  pay_amt4  pay_amt5  pay_amt6  defaultnextmonth  sex_Female  \\\n",
              "0    5841.0   13506.0     487.0    7004.0                 0           1   \n",
              "1    4152.0    5000.0    5000.0    5000.0                 0           0   \n",
              "\n",
              "   sex_Male  education_Below High School  education_Graduate School  \\\n",
              "0         0                            0                          1   \n",
              "1         1                            0                          0   \n",
              "\n",
              "   education_High School  education_University  marriage_0  marriage_Married  \\\n",
              "0                      0                     0           0                 0   \n",
              "1                      0                     1           0                 0   \n",
              "\n",
              "   marriage_Other  marriage_Single  \n",
              "0               0                1  \n",
              "1               0                1  "
            ]
          },
          "metadata": {
            "tags": []
          },
          "execution_count": 76
        }
      ]
    },
    {
      "cell_type": "code",
      "metadata": {
        "id": "akUCZ-sBy2rg",
        "colab_type": "code",
        "colab": {
          "base_uri": "https://localhost:8080/",
          "height": 143
        },
        "outputId": "b89a57ff-2a6b-45aa-af5d-8b6f3174277b"
      },
      "source": [
        "model_df = merge_df.drop([\"sex\", \"education\", \"marriage\"], axis = 1) # dataframe for model is ready.\n",
        "model_df = model_df.drop(columns = \"rownumber\", axis = 1)\n",
        "model_df.head(2)"
      ],
      "execution_count": 77,
      "outputs": [
        {
          "output_type": "execute_result",
          "data": {
            "text/html": [
              "<div>\n",
              "<style scoped>\n",
              "    .dataframe tbody tr th:only-of-type {\n",
              "        vertical-align: middle;\n",
              "    }\n",
              "\n",
              "    .dataframe tbody tr th {\n",
              "        vertical-align: top;\n",
              "    }\n",
              "\n",
              "    .dataframe thead th {\n",
              "        text-align: right;\n",
              "    }\n",
              "</style>\n",
              "<table border=\"1\" class=\"dataframe\">\n",
              "  <thead>\n",
              "    <tr style=\"text-align: right;\">\n",
              "      <th></th>\n",
              "      <th>creditamount</th>\n",
              "      <th>age</th>\n",
              "      <th>paydelay1</th>\n",
              "      <th>paydelay2</th>\n",
              "      <th>paydelay3</th>\n",
              "      <th>paydelay4</th>\n",
              "      <th>paydelay5</th>\n",
              "      <th>paydelay6</th>\n",
              "      <th>pay_amt1</th>\n",
              "      <th>pay_amt2</th>\n",
              "      <th>pay_amt3</th>\n",
              "      <th>pay_amt4</th>\n",
              "      <th>pay_amt5</th>\n",
              "      <th>pay_amt6</th>\n",
              "      <th>defaultnextmonth</th>\n",
              "      <th>sex_Female</th>\n",
              "      <th>sex_Male</th>\n",
              "      <th>education_Below High School</th>\n",
              "      <th>education_Graduate School</th>\n",
              "      <th>education_High School</th>\n",
              "      <th>education_University</th>\n",
              "      <th>marriage_0</th>\n",
              "      <th>marriage_Married</th>\n",
              "      <th>marriage_Other</th>\n",
              "      <th>marriage_Single</th>\n",
              "    </tr>\n",
              "  </thead>\n",
              "  <tbody>\n",
              "    <tr>\n",
              "      <th>0</th>\n",
              "      <td>140000.0</td>\n",
              "      <td>26</td>\n",
              "      <td>-1</td>\n",
              "      <td>0</td>\n",
              "      <td>-1</td>\n",
              "      <td>-1</td>\n",
              "      <td>-1</td>\n",
              "      <td>-1</td>\n",
              "      <td>10000.0</td>\n",
              "      <td>13001.0</td>\n",
              "      <td>5841.0</td>\n",
              "      <td>13506.0</td>\n",
              "      <td>487.0</td>\n",
              "      <td>7004.0</td>\n",
              "      <td>0</td>\n",
              "      <td>1</td>\n",
              "      <td>0</td>\n",
              "      <td>0</td>\n",
              "      <td>1</td>\n",
              "      <td>0</td>\n",
              "      <td>0</td>\n",
              "      <td>0</td>\n",
              "      <td>0</td>\n",
              "      <td>0</td>\n",
              "      <td>1</td>\n",
              "    </tr>\n",
              "    <tr>\n",
              "      <th>1</th>\n",
              "      <td>120000.0</td>\n",
              "      <td>26</td>\n",
              "      <td>0</td>\n",
              "      <td>0</td>\n",
              "      <td>0</td>\n",
              "      <td>0</td>\n",
              "      <td>0</td>\n",
              "      <td>0</td>\n",
              "      <td>5000.0</td>\n",
              "      <td>5000.0</td>\n",
              "      <td>4152.0</td>\n",
              "      <td>5000.0</td>\n",
              "      <td>5000.0</td>\n",
              "      <td>5000.0</td>\n",
              "      <td>0</td>\n",
              "      <td>0</td>\n",
              "      <td>1</td>\n",
              "      <td>0</td>\n",
              "      <td>0</td>\n",
              "      <td>0</td>\n",
              "      <td>1</td>\n",
              "      <td>0</td>\n",
              "      <td>0</td>\n",
              "      <td>0</td>\n",
              "      <td>1</td>\n",
              "    </tr>\n",
              "  </tbody>\n",
              "</table>\n",
              "</div>"
            ],
            "text/plain": [
              "   creditamount  age  paydelay1  paydelay2  paydelay3  paydelay4  paydelay5  \\\n",
              "0      140000.0   26         -1          0         -1         -1         -1   \n",
              "1      120000.0   26          0          0          0          0          0   \n",
              "\n",
              "   paydelay6  pay_amt1  pay_amt2  pay_amt3  pay_amt4  pay_amt5  pay_amt6  \\\n",
              "0         -1   10000.0   13001.0    5841.0   13506.0     487.0    7004.0   \n",
              "1          0    5000.0    5000.0    4152.0    5000.0    5000.0    5000.0   \n",
              "\n",
              "   defaultnextmonth  sex_Female  sex_Male  education_Below High School  \\\n",
              "0                 0           1         0                            0   \n",
              "1                 0           0         1                            0   \n",
              "\n",
              "   education_Graduate School  education_High School  education_University  \\\n",
              "0                          1                      0                     0   \n",
              "1                          0                      0                     1   \n",
              "\n",
              "   marriage_0  marriage_Married  marriage_Other  marriage_Single  \n",
              "0           0                 0               0                1  \n",
              "1           0                 0               0                1  "
            ]
          },
          "metadata": {
            "tags": []
          },
          "execution_count": 77
        }
      ]
    },
    {
      "cell_type": "markdown",
      "metadata": {
        "id": "kfLmuYtNy2rj",
        "colab_type": "text"
      },
      "source": [
        "RF for feature selection"
      ]
    },
    {
      "cell_type": "code",
      "metadata": {
        "id": "xXF2tH35y2rk",
        "colab_type": "code",
        "colab": {
          "base_uri": "https://localhost:8080/",
          "height": 55
        },
        "outputId": "7489bb51-290d-4598-fe63-c3acd5fad381"
      },
      "source": [
        "'''\n",
        "model_df = model_df.astype({\"sex_Female\":'category', \n",
        "                            \"sex_Male\":'category', \n",
        "                            \"education_Below High School\":'category', \n",
        "                            \"education_Graduate School\":\"category\",\n",
        "                            \"education_High School\": \"category\",\n",
        "                            \"education_University\": \"category\",\n",
        "                            \"marriage_0\":\"category\",\n",
        "                            \"marriage_Married\": \"category\",\n",
        "                            \"marriage_Other\": \"category\",\n",
        "                            \"marriage_Single\": \"category\"})\n",
        "'''"
      ],
      "execution_count": 38,
      "outputs": [
        {
          "output_type": "execute_result",
          "data": {
            "text/plain": [
              "'\\nmodel_df = model_df.astype({\"sex_Female\":\\'category\\', \\n                            \"sex_Male\":\\'category\\', \\n                            \"education_Below High School\":\\'category\\', \\n                            \"education_Graduate School\":\"category\",\\n                            \"education_High School\": \"category\",\\n                            \"education_University\": \"category\",\\n                            \"marriage_0\":\"category\",\\n                            \"marriage_Married\": \"category\",\\n                            \"marriage_Other\": \"category\",\\n                            \"marriage_Single\": \"category\"})\\n'"
            ]
          },
          "metadata": {
            "tags": []
          },
          "execution_count": 38
        }
      ]
    },
    {
      "cell_type": "code",
      "metadata": {
        "id": "tDnFs-Uhy2rm",
        "colab_type": "code",
        "colab": {}
      },
      "source": [
        "model_df = model_df.astype({\"sex_Female\":'int', \n",
        "                            \"sex_Male\":'int', \n",
        "                            \"education_Below High School\":'int', \n",
        "                            \"education_Graduate School\":\"int\",\n",
        "                            \"education_High School\": \"int\",\n",
        "                            \"education_University\": \"int\",\n",
        "                            \"marriage_0\":\"int\",\n",
        "                            \"marriage_Married\": \"int\",\n",
        "                            \"marriage_Other\": \"int\",\n",
        "                            \"marriage_Single\": \"int\"})"
      ],
      "execution_count": 0,
      "outputs": []
    },
    {
      "cell_type": "code",
      "metadata": {
        "id": "WtKB1FP-y2rv",
        "colab_type": "code",
        "colab": {}
      },
      "source": [
        "X = model_df.drop(columns = \"defaultnextmonth\", axis = 1)\n",
        "y = model_df.defaultnextmonth"
      ],
      "execution_count": 0,
      "outputs": []
    },
    {
      "cell_type": "markdown",
      "metadata": {
        "id": "YXXBfh8PQRFD",
        "colab_type": "text"
      },
      "source": [
        "OK, Best subset() for feature selection -- Started"
      ]
    },
    {
      "cell_type": "code",
      "metadata": {
        "id": "KskQ25MAy2r4",
        "colab_type": "code",
        "colab": {}
      },
      "source": [
        "import time\n",
        "import statsmodels.api as sm\n",
        "import itertools"
      ],
      "execution_count": 0,
      "outputs": []
    },
    {
      "cell_type": "code",
      "metadata": {
        "id": "JBKoW1_fy2r7",
        "colab_type": "code",
        "colab": {}
      },
      "source": [
        "def processSubset(feature_set):\n",
        "    # Fit model on feature_set and calculate RSS\n",
        "    model = sm.OLS(y,X[list(feature_set)])\n",
        "    regr = model.fit()\n",
        "    RSS = ((regr.predict(X[list(feature_set)]) - y) ** 2).sum()\n",
        "    return {\"model\":regr, \"RSS\":RSS}"
      ],
      "execution_count": 0,
      "outputs": []
    },
    {
      "cell_type": "code",
      "metadata": {
        "id": "c5ogz5Rky2r-",
        "colab_type": "code",
        "colab": {}
      },
      "source": [
        "def getBest(k):\n",
        "    \n",
        "    tic = time.time()\n",
        "    \n",
        "    results = []\n",
        "    \n",
        "    for combo in itertools.combinations(X.columns, k):\n",
        "        results.append(processSubset(combo))\n",
        "    \n",
        "    # Wrap everything up in a nice dataframe\n",
        "    models = pd.DataFrame(results)\n",
        "    \n",
        "    # Choose the model with the highest RSS\n",
        "    best_model = models.loc[models['RSS'].argmin()]\n",
        "    \n",
        "    toc = time.time()\n",
        "    print(\"Processed\", models.shape[0], \"models on\", k, \"predictors in\", (toc-tic), \"seconds.\")\n",
        "    \n",
        "    # Return the best model, along with some other useful information about the model\n",
        "    return best_model"
      ],
      "execution_count": 0,
      "outputs": []
    },
    {
      "cell_type": "code",
      "metadata": {
        "id": "2QeGnJymy2sA",
        "colab_type": "code",
        "colab": {
          "base_uri": "https://localhost:8080/",
          "height": 70
        },
        "outputId": "4bc6c57d-ac16-47c9-8d58-dad9dc4c2e70"
      },
      "source": [
        "# Could take quite awhile to complete...\n",
        "\n",
        "models_best = pd.DataFrame(columns=[\"RSS\", \"model\"])\n",
        "\n",
        "tic = time.time()\n",
        "for i in range(1,26):\n",
        "    models_best.loc[i] = getBest(i)\n",
        "\n",
        "toc = time.time()\n",
        "print(\"Total elapsed time:\", (toc-tic), \"seconds.\")"
      ],
      "execution_count": 0,
      "outputs": [
        {
          "output_type": "stream",
          "text": [
            "Processed 24 models on 1 predictors in 0.21608996391296387 seconds.\n",
            "Processed 276 models on 2 predictors in 3.3208234310150146 seconds.\n",
            "Processed 2024 models on 3 predictors in 30.181766986846924 seconds.\n"
          ],
          "name": "stdout"
        }
      ]
    },
    {
      "cell_type": "markdown",
      "metadata": {
        "id": "Y4bwlL4xy2sC",
        "colab_type": "text"
      },
      "source": [
        "ok, so here is the problem: the dataset subset() and stepwise feature selection will test too many models, the physical storage (RAM) is stuffed even only for 4 features to predict. \n",
        "\n",
        "So, let's try RandomForst to select important features."
      ]
    },
    {
      "cell_type": "markdown",
      "metadata": {
        "id": "y0UuzKhKQ61N",
        "colab_type": "text"
      },
      "source": [
        "Best subset() for feature selection -- Finished"
      ]
    },
    {
      "cell_type": "markdown",
      "metadata": {
        "id": "kGYyXlr6Q9SE",
        "colab_type": "text"
      },
      "source": [
        "###"
      ]
    },
    {
      "cell_type": "markdown",
      "metadata": {
        "id": "LwpsnhIvQ-gc",
        "colab_type": "text"
      },
      "source": [
        "Let's try RF for feature importance"
      ]
    },
    {
      "cell_type": "code",
      "metadata": {
        "id": "wqJzBmffS3yg",
        "colab_type": "code",
        "colab": {
          "base_uri": "https://localhost:8080/",
          "height": 586
        },
        "outputId": "0a43c0ee-2e84-45f1-f5e5-a1713b3b735f"
      },
      "source": [
        "model_df.info()"
      ],
      "execution_count": 38,
      "outputs": [
        {
          "output_type": "stream",
          "text": [
            "<class 'pandas.core.frame.DataFrame'>\n",
            "RangeIndex: 30000 entries, 0 to 29999\n",
            "Data columns (total 25 columns):\n",
            " #   Column                       Non-Null Count  Dtype  \n",
            "---  ------                       --------------  -----  \n",
            " 0   creditamount                 30000 non-null  float64\n",
            " 1   age                          30000 non-null  int64  \n",
            " 2   paydelay1                    30000 non-null  int64  \n",
            " 3   paydelay2                    30000 non-null  int64  \n",
            " 4   paydelay3                    30000 non-null  int64  \n",
            " 5   paydelay4                    30000 non-null  int64  \n",
            " 6   paydelay5                    30000 non-null  int64  \n",
            " 7   paydelay6                    30000 non-null  int64  \n",
            " 8   pay_amt1                     30000 non-null  float64\n",
            " 9   pay_amt2                     30000 non-null  float64\n",
            " 10  pay_amt3                     30000 non-null  float64\n",
            " 11  pay_amt4                     30000 non-null  float64\n",
            " 12  pay_amt5                     30000 non-null  float64\n",
            " 13  pay_amt6                     30000 non-null  float64\n",
            " 14  defaultnextmonth             30000 non-null  int64  \n",
            " 15  sex_Female                   30000 non-null  int64  \n",
            " 16  sex_Male                     30000 non-null  int64  \n",
            " 17  education_Below High School  30000 non-null  int64  \n",
            " 18  education_Graduate School    30000 non-null  int64  \n",
            " 19  education_High School        30000 non-null  int64  \n",
            " 20  education_University         30000 non-null  int64  \n",
            " 21  marriage_0                   30000 non-null  int64  \n",
            " 22  marriage_Married             30000 non-null  int64  \n",
            " 23  marriage_Other               30000 non-null  int64  \n",
            " 24  marriage_Single              30000 non-null  int64  \n",
            "dtypes: float64(7), int64(18)\n",
            "memory usage: 5.7 MB\n"
          ],
          "name": "stdout"
        }
      ]
    },
    {
      "cell_type": "markdown",
      "metadata": {
        "id": "mLQ5CI_mVPvm",
        "colab_type": "text"
      },
      "source": [
        "Code Below is using RF fit the dataset and pull out one tree to visulise.\n",
        "-- !!! Put it away"
      ]
    },
    {
      "cell_type": "code",
      "metadata": {
        "id": "5oYO6aIUy2sC",
        "colab_type": "code",
        "colab": {}
      },
      "source": [
        "# Import the model we are using\n",
        "from sklearn.ensemble import RandomForestClassifier\n",
        "from sklearn.tree import export_graphviz\n",
        "\n",
        "# Instantiate model with 1000 decision trees\n",
        "rf = RandomForestClassifier(n_estimators = 1000, random_state = 42, verbose = 1)\n",
        "\n",
        "# fit the model\n",
        "model = rf.fit(X, y)\n",
        "\n",
        "# Pull out one tree from the forest\n",
        "estimator = model.estimators_[5]\n",
        "\n",
        "# Export as dot file\n",
        "export_graphviz(estimator, out_file='tree.dot', \n",
        "                feature_names = X.columns,\n",
        "                class_names = y,\n",
        "                rounded = True, proportion = False, \n",
        "                precision = 2, filled = True)\n",
        "\n",
        "# Convert to png using system command (requires Graphviz)\n",
        "from subprocess import call\n",
        "call(['dot', '-Tpng', 'tree.dot', '-o', 'tree.png', '-Gdpi=600'])\n",
        "\n",
        "# Display in jupyter notebook\n",
        "from IPython.display import Image\n",
        "Image(filename = 'tree.png')"
      ],
      "execution_count": 0,
      "outputs": []
    },
    {
      "cell_type": "markdown",
      "metadata": {
        "id": "92n0T6K2VgIh",
        "colab_type": "text"
      },
      "source": [
        "Code Below shows feature selection via RF. "
      ]
    },
    {
      "cell_type": "code",
      "metadata": {
        "id": "qgo69wiXy2sV",
        "colab_type": "code",
        "colab": {
          "base_uri": "https://localhost:8080/",
          "height": 70
        },
        "outputId": "53a5f5a6-28b8-4ea2-da84-eb21cd624909"
      },
      "source": [
        "import pandas as pd\n",
        "from sklearn.ensemble import RandomForestClassifier\n",
        "from sklearn.feature_selection import SelectFromModel\n",
        "from sklearn.model_selection import train_test_split\n",
        "\n",
        "# split the dataset\n",
        "# In all feature selection procedures, it is a good practice to select the features by examining only the training set. \n",
        "    # This is to avoid overfitting\n",
        "X_train,X_test,y_train,y_test = train_test_split(X,y,test_size=0.3, random_state=42)\n",
        "\n",
        "# Firstly, specify the RF instance, indicating the number of trees\n",
        "# Then I use 'selectFromModel' object from sklearn to automatically select the features.\n",
        "# SelectFromModel will select those features which importance is greater than the mean importance of all the features by default, \n",
        "    #but we can alter this threshold if we want.\n",
        "sel = SelectFromModel(RandomForestClassifier(n_estimators = 100))\n",
        "sel.fit(X_train, y_train)\n",
        "\n",
        "# To see which features are important we can use get_support method on the fitted model.\n",
        "sel.get_support()  # return an array of boolean values. \n",
        "                   # \"True\" for the features whose importance is greater than the mean importance and \"False\" for the rest\n",
        "\n",
        "# make a list and count the selected features\n",
        "selected_feat= X_train.columns[(sel.get_support())]\n",
        "len(selected_feat) # return an Integer representing the number of features selected by the random forest\n",
        "\n",
        "# To get the name of the features selected\n",
        "print(selected_feat) # return the name of the selected features"
      ],
      "execution_count": 80,
      "outputs": [
        {
          "output_type": "stream",
          "text": [
            "Index(['creditamount', 'age', 'paydelay1', 'paydelay2', 'pay_amt1', 'pay_amt2',\n",
            "       'pay_amt3', 'pay_amt4', 'pay_amt5', 'pay_amt6'],\n",
            "      dtype='object')\n"
          ],
          "name": "stdout"
        }
      ]
    },
    {
      "cell_type": "code",
      "metadata": {
        "id": "hcCldKIdd7SL",
        "colab_type": "code",
        "colab": {
          "base_uri": "https://localhost:8080/",
          "height": 159
        },
        "outputId": "efbeb45b-7fbd-4010-b4a0-b4c47a436774"
      },
      "source": [
        "# define feat_labels\n",
        "feat_lables = X_train.columns\n",
        "\n",
        "# Create a random forest classifier\n",
        "clf = RandomForestClassifier(n_estimators=10000, random_state=0, n_jobs=-1)\n",
        "\n",
        "# Train the classifier\n",
        "clf.fit(X_train, y_train)"
      ],
      "execution_count": 81,
      "outputs": [
        {
          "output_type": "execute_result",
          "data": {
            "text/plain": [
              "RandomForestClassifier(bootstrap=True, ccp_alpha=0.0, class_weight=None,\n",
              "                       criterion='gini', max_depth=None, max_features='auto',\n",
              "                       max_leaf_nodes=None, max_samples=None,\n",
              "                       min_impurity_decrease=0.0, min_impurity_split=None,\n",
              "                       min_samples_leaf=1, min_samples_split=2,\n",
              "                       min_weight_fraction_leaf=0.0, n_estimators=10000,\n",
              "                       n_jobs=-1, oob_score=False, random_state=0, verbose=0,\n",
              "                       warm_start=False)"
            ]
          },
          "metadata": {
            "tags": []
          },
          "execution_count": 81
        }
      ]
    },
    {
      "cell_type": "code",
      "metadata": {
        "id": "Ua7TUt2ojRK8",
        "colab_type": "code",
        "colab": {
          "base_uri": "https://localhost:8080/",
          "height": 106
        },
        "outputId": "58b04509-e9d2-49a9-daed-5c344da491cf"
      },
      "source": [
        " clf.feature_importances_"
      ],
      "execution_count": 82,
      "outputs": [
        {
          "output_type": "execute_result",
          "data": {
            "text/plain": [
              "array([0.0891583 , 0.09783982, 0.10378667, 0.05160557, 0.03462819,\n",
              "       0.02918189, 0.02734793, 0.02657986, 0.08213024, 0.07773545,\n",
              "       0.07547653, 0.0729046 , 0.07281992, 0.0728862 , 0.01161011,\n",
              "       0.01162328, 0.00043733, 0.01188697, 0.01055365, 0.01349545,\n",
              "       0.00038545, 0.01192762, 0.00226229, 0.01173668])"
            ]
          },
          "metadata": {
            "tags": []
          },
          "execution_count": 82
        }
      ]
    },
    {
      "cell_type": "code",
      "metadata": {
        "id": "H8zIaGuAkiVZ",
        "colab_type": "code",
        "colab": {
          "base_uri": "https://localhost:8080/",
          "height": 141
        },
        "outputId": "1cb951a1-5840-47a2-95cd-7f21d2fd902d"
      },
      "source": [
        "feat_lables"
      ],
      "execution_count": 83,
      "outputs": [
        {
          "output_type": "execute_result",
          "data": {
            "text/plain": [
              "Index(['creditamount', 'age', 'paydelay1', 'paydelay2', 'paydelay3',\n",
              "       'paydelay4', 'paydelay5', 'paydelay6', 'pay_amt1', 'pay_amt2',\n",
              "       'pay_amt3', 'pay_amt4', 'pay_amt5', 'pay_amt6', 'sex_Female',\n",
              "       'sex_Male', 'education_Below High School', 'education_Graduate School',\n",
              "       'education_High School', 'education_University', 'marriage_0',\n",
              "       'marriage_Married', 'marriage_Other', 'marriage_Single'],\n",
              "      dtype='object')"
            ]
          },
          "metadata": {
            "tags": []
          },
          "execution_count": 83
        }
      ]
    },
    {
      "cell_type": "code",
      "metadata": {
        "id": "sAUH-5cZAOz2",
        "colab_type": "code",
        "colab": {
          "base_uri": "https://localhost:8080/",
          "height": 456
        },
        "outputId": "b0e7980f-c632-4088-eb78-19923a4564c2"
      },
      "source": [
        "# check and plot the distribution of importance\n",
        "temp_df = pd.DataFrame(feat_lables,clf.feature_importances_,).reset_index()\n",
        "temp_df = temp_df.rename(columns = {'index': 'Importance_score', 0: 'feat_name'})\n",
        "temp_df.plot.bar(x = 'feat_name')"
      ],
      "execution_count": 68,
      "outputs": [
        {
          "output_type": "execute_result",
          "data": {
            "text/plain": [
              "<matplotlib.axes._subplots.AxesSubplot at 0x7fbb50f64cf8>"
            ]
          },
          "metadata": {
            "tags": []
          },
          "execution_count": 68
        },
        {
          "output_type": "display_data",
          "data": {
            "image/png": "[encoded data removed]",
            "text/plain": [
              "<Figure size 432x288 with 1 Axes>"
            ]
          },
          "metadata": {
            "tags": []
          }
        }
      ]
    },
    {
      "cell_type": "markdown",
      "metadata": {
        "id": "jMvPI2r8Jxim",
        "colab_type": "text"
      },
      "source": [
        "# ok, now use the best feature chose to fit a RF model"
      ]
    },
    {
      "cell_type": "code",
      "metadata": {
        "id": "af-n5VkptjWD",
        "colab_type": "code",
        "colab": {}
      },
      "source": [
        "# split the dataset\n",
        "# In all feature selection procedures, it is a good practice to select the features by examining only the training set. \n",
        "    # This is to avoid overfitting\n",
        "X_train,X_test,y_train,y_test = train_test_split(X,y,test_size=0.3, random_state=42)"
      ],
      "execution_count": 0,
      "outputs": []
    },
    {
      "cell_type": "code",
      "metadata": {
        "id": "rHTtWZ9zKKzu",
        "colab_type": "code",
        "colab": {
          "base_uri": "https://localhost:8080/",
          "height": 159
        },
        "outputId": "7f61b7be-3119-4bc2-a951-065ba58b6b83"
      },
      "source": [
        "# fit model with all features\n",
        "clf_allF = RandomForestClassifier(n_estimators=10000, random_state=0, n_jobs=-1)\n",
        "\n",
        "# Train the classifier\n",
        "clf_allF.fit(X_train, y_train)"
      ],
      "execution_count": 82,
      "outputs": [
        {
          "output_type": "execute_result",
          "data": {
            "text/plain": [
              "RandomForestClassifier(bootstrap=True, ccp_alpha=0.0, class_weight=None,\n",
              "                       criterion='gini', max_depth=None, max_features='auto',\n",
              "                       max_leaf_nodes=None, max_samples=None,\n",
              "                       min_impurity_decrease=0.0, min_impurity_split=None,\n",
              "                       min_samples_leaf=1, min_samples_split=2,\n",
              "                       min_weight_fraction_leaf=0.0, n_estimators=10000,\n",
              "                       n_jobs=-1, oob_score=False, random_state=0, verbose=0,\n",
              "                       warm_start=False)"
            ]
          },
          "metadata": {
            "tags": []
          },
          "execution_count": 82
        }
      ]
    },
    {
      "cell_type": "code",
      "metadata": {
        "id": "RtfPw-YiLLU2",
        "colab_type": "code",
        "colab": {}
      },
      "source": [
        "# get the data only with chosen features\n",
        "model_df_sel_ft = model_df[selected_feat]"
      ],
      "execution_count": 0,
      "outputs": []
    },
    {
      "cell_type": "code",
      "metadata": {
        "id": "rYqz7t6EMO58",
        "colab_type": "code",
        "colab": {}
      },
      "source": [
        "# define new X and y\n",
        "X_short = model_df_sel_ft\n",
        "y_short = model_df.defaultnextmonth\n",
        "\n",
        "# again, split train, test with new dataset\n",
        "X_train_s,X_test_s,y_train_s,y_test_s = train_test_split(X_short,y_short,test_size=0.3, random_state=42)"
      ],
      "execution_count": 0,
      "outputs": []
    },
    {
      "cell_type": "code",
      "metadata": {
        "id": "Qf2A9ZVqKWDp",
        "colab_type": "code",
        "colab": {
          "base_uri": "https://localhost:8080/",
          "height": 159
        },
        "outputId": "0f61a7b8-dba2-4d2d-f695-5664d09b950c"
      },
      "source": [
        "# fit model with only chosen features\n",
        "clf_short = RandomForestClassifier(n_estimators=10000, random_state=0, n_jobs=-1)\n",
        "\n",
        "# Train the classifier\n",
        "clf_short.fit(X_train_s, y_train_s)"
      ],
      "execution_count": 122,
      "outputs": [
        {
          "output_type": "execute_result",
          "data": {
            "text/plain": [
              "RandomForestClassifier(bootstrap=True, ccp_alpha=0.0, class_weight=None,\n",
              "                       criterion='gini', max_depth=None, max_features='auto',\n",
              "                       max_leaf_nodes=None, max_samples=None,\n",
              "                       min_impurity_decrease=0.0, min_impurity_split=None,\n",
              "                       min_samples_leaf=1, min_samples_split=2,\n",
              "                       min_weight_fraction_leaf=0.0, n_estimators=10000,\n",
              "                       n_jobs=-1, oob_score=False, random_state=0, verbose=0,\n",
              "                       warm_start=False)"
            ]
          },
          "metadata": {
            "tags": []
          },
          "execution_count": 122
        }
      ]
    },
    {
      "cell_type": "code",
      "metadata": {
        "id": "AOqwmSNTOFhL",
        "colab_type": "code",
        "colab": {
          "base_uri": "https://localhost:8080/",
          "height": 35
        },
        "outputId": "891c1198-0096-401a-e39c-246b5c2b689d"
      },
      "source": [
        "# move on to the test part -- all feature model\n",
        "# Use the forest's predict method on the test data\n",
        "predictions = clf_allF.predict(X_test)\n",
        "# Calculate the absolute errors\n",
        "errors = abs(predictions - y_test)\n",
        "# Print out the mean absolute error (mae)\n",
        "print('Mean Absolute Error:', round(np.mean(errors), 2), 'degrees.')"
      ],
      "execution_count": 84,
      "outputs": [
        {
          "output_type": "stream",
          "text": [
            "Mean Absolute Error: 0.19 degrees.\n"
          ],
          "name": "stdout"
        }
      ]
    },
    {
      "cell_type": "code",
      "metadata": {
        "id": "vM5S_8xLR0mc",
        "colab_type": "code",
        "colab": {
          "base_uri": "https://localhost:8080/",
          "height": 35
        },
        "outputId": "02aa3e55-66ab-402d-b916-4b25bc64cf42"
      },
      "source": [
        "# move on to the test part -- short model\n",
        "# Use the forest's predict method on the test data\n",
        "predictions_short = clf_short.predict(X_test_s)\n",
        "# Calculate the absolute errors\n",
        "errors_short = abs(predictions_short - y_test_s)\n",
        "# Print out the mean absolute error (mae)\n",
        "print('Mean Absolute Error:', round(np.mean(errors_short), 2), 'degrees.')"
      ],
      "execution_count": 124,
      "outputs": [
        {
          "output_type": "stream",
          "text": [
            "Mean Absolute Error: 0.19 degrees.\n"
          ],
          "name": "stdout"
        }
      ]
    },
    {
      "cell_type": "code",
      "metadata": {
        "id": "kz-kCA4SVATI",
        "colab_type": "code",
        "colab": {
          "base_uri": "https://localhost:8080/",
          "height": 135
        },
        "outputId": "30f2d44a-7792-464d-b49e-6e26cb57b8e2"
      },
      "source": [
        "# pd.crosstab()\n",
        "pd.crosstab(y_test, predictions, rownames=['Actual Values'], colnames=['Predicted Values'])"
      ],
      "execution_count": 92,
      "outputs": [
        {
          "output_type": "execute_result",
          "data": {
            "text/html": [
              "<div>\n",
              "<style scoped>\n",
              "    .dataframe tbody tr th:only-of-type {\n",
              "        vertical-align: middle;\n",
              "    }\n",
              "\n",
              "    .dataframe tbody tr th {\n",
              "        vertical-align: top;\n",
              "    }\n",
              "\n",
              "    .dataframe thead th {\n",
              "        text-align: right;\n",
              "    }\n",
              "</style>\n",
              "<table border=\"1\" class=\"dataframe\">\n",
              "  <thead>\n",
              "    <tr style=\"text-align: right;\">\n",
              "      <th>Predicted Values</th>\n",
              "      <th>0</th>\n",
              "      <th>1</th>\n",
              "    </tr>\n",
              "    <tr>\n",
              "      <th>Actual Values</th>\n",
              "      <th></th>\n",
              "      <th></th>\n",
              "    </tr>\n",
              "  </thead>\n",
              "  <tbody>\n",
              "    <tr>\n",
              "      <th>0</th>\n",
              "      <td>6564</td>\n",
              "      <td>430</td>\n",
              "    </tr>\n",
              "    <tr>\n",
              "      <th>1</th>\n",
              "      <td>1252</td>\n",
              "      <td>754</td>\n",
              "    </tr>\n",
              "  </tbody>\n",
              "</table>\n",
              "</div>"
            ],
            "text/plain": [
              "Predicted Values     0    1\n",
              "Actual Values              \n",
              "0                 6564  430\n",
              "1                 1252  754"
            ]
          },
          "metadata": {
            "tags": []
          },
          "execution_count": 92
        }
      ]
    },
    {
      "cell_type": "code",
      "metadata": {
        "id": "_1De20VGPQ-Q",
        "colab_type": "code",
        "colab": {
          "base_uri": "https://localhost:8080/",
          "height": 135
        },
        "outputId": "bca3a038-2efc-471a-b1f0-25e0c421f669"
      },
      "source": [
        "# Now using pandas.crosstable()\n",
        "pd.crosstab(y_test_s, predictions_short, rownames=['Actual Values'], colnames=['Predicted Values'])"
      ],
      "execution_count": 125,
      "outputs": [
        {
          "output_type": "execute_result",
          "data": {
            "text/html": [
              "<div>\n",
              "<style scoped>\n",
              "    .dataframe tbody tr th:only-of-type {\n",
              "        vertical-align: middle;\n",
              "    }\n",
              "\n",
              "    .dataframe tbody tr th {\n",
              "        vertical-align: top;\n",
              "    }\n",
              "\n",
              "    .dataframe thead th {\n",
              "        text-align: right;\n",
              "    }\n",
              "</style>\n",
              "<table border=\"1\" class=\"dataframe\">\n",
              "  <thead>\n",
              "    <tr style=\"text-align: right;\">\n",
              "      <th>Predicted Values</th>\n",
              "      <th>0</th>\n",
              "      <th>1</th>\n",
              "    </tr>\n",
              "    <tr>\n",
              "      <th>Actual Values</th>\n",
              "      <th></th>\n",
              "      <th></th>\n",
              "    </tr>\n",
              "  </thead>\n",
              "  <tbody>\n",
              "    <tr>\n",
              "      <th>0</th>\n",
              "      <td>6560</td>\n",
              "      <td>434</td>\n",
              "    </tr>\n",
              "    <tr>\n",
              "      <th>1</th>\n",
              "      <td>1261</td>\n",
              "      <td>745</td>\n",
              "    </tr>\n",
              "  </tbody>\n",
              "</table>\n",
              "</div>"
            ],
            "text/plain": [
              "Predicted Values     0    1\n",
              "Actual Values              \n",
              "0                 6560  434\n",
              "1                 1261  745"
            ]
          },
          "metadata": {
            "tags": []
          },
          "execution_count": 125
        }
      ]
    },
    {
      "cell_type": "markdown",
      "metadata": {
        "id": "f-JhsFVT-YQ1",
        "colab_type": "text"
      },
      "source": [
        "Based on the result, 745 of '1' predicted correctly, and 1261 '1' predicted incorrectly. It is very bad. like, very very bad. The total ratio of '1' being correctly predictecd is 37.14%."
      ]
    },
    {
      "cell_type": "code",
      "metadata": {
        "id": "65rikKPcU5jZ",
        "colab_type": "code",
        "colab": {}
      },
      "source": [
        "# OK, now we have to try sth else.\n",
        "\n",
        "# try on LogsticRegression.\n",
        "\n",
        "# try AdaBoost\n",
        "\n",
        "# try XgBoost\n",
        "\n",
        "# try SVM\n",
        "\n",
        "# try LDA\n",
        "\n",
        "# then compare them via ROC curve"
      ],
      "execution_count": 0,
      "outputs": []
    },
    {
      "cell_type": "markdown",
      "metadata": {
        "id": "_npbvH6aokCe",
        "colab_type": "text"
      },
      "source": [
        "# try on LogsticRegression."
      ]
    },
    {
      "cell_type": "code",
      "metadata": {
        "id": "HrwVQa0c8mDR",
        "colab_type": "code",
        "colab": {}
      },
      "source": [
        "\n",
        "from sklearn.linear_model import LogisticRegression\n",
        "\n",
        "# the new dataset\n",
        "model_df_sel_ft = model_df[selected_feat]\n",
        "\n",
        "# define new X and y\n",
        "X_short = model_df_sel_ft\n",
        "y_short = model_df.defaultnextmonth\n",
        "\n",
        "# again, split train, test with new dataset\n",
        "X_train_s,X_test_s,y_train_s,y_test_s = train_test_split(X_short,y_short,test_size=0.3, random_state=42)\n",
        "\n",
        "lgm = LogisticRegression(random_state=0, max_iter=10000).fit(X_train_s, y_train_s)\n",
        "lgm_pred = lgm.predict(X_test_s)"
      ],
      "execution_count": 0,
      "outputs": []
    },
    {
      "cell_type": "code",
      "metadata": {
        "id": "r8ZBG8wPL1eI",
        "colab_type": "code",
        "colab": {
          "base_uri": "https://localhost:8080/",
          "height": 135
        },
        "outputId": "9ba54572-dc70-4993-a5ea-7e42bb27deb8"
      },
      "source": [
        "pd.crosstab(y_test_s, lgm_pred, rownames=['Actual Values'], colnames=['Predicted Values'])"
      ],
      "execution_count": 88,
      "outputs": [
        {
          "output_type": "execute_result",
          "data": {
            "text/html": [
              "<div>\n",
              "<style scoped>\n",
              "    .dataframe tbody tr th:only-of-type {\n",
              "        vertical-align: middle;\n",
              "    }\n",
              "\n",
              "    .dataframe tbody tr th {\n",
              "        vertical-align: top;\n",
              "    }\n",
              "\n",
              "    .dataframe thead th {\n",
              "        text-align: right;\n",
              "    }\n",
              "</style>\n",
              "<table border=\"1\" class=\"dataframe\">\n",
              "  <thead>\n",
              "    <tr style=\"text-align: right;\">\n",
              "      <th>Predicted Values</th>\n",
              "      <th>0</th>\n",
              "      <th>1</th>\n",
              "    </tr>\n",
              "    <tr>\n",
              "      <th>Actual Values</th>\n",
              "      <th></th>\n",
              "      <th></th>\n",
              "    </tr>\n",
              "  </thead>\n",
              "  <tbody>\n",
              "    <tr>\n",
              "      <th>0</th>\n",
              "      <td>6705</td>\n",
              "      <td>289</td>\n",
              "    </tr>\n",
              "    <tr>\n",
              "      <th>1</th>\n",
              "      <td>1518</td>\n",
              "      <td>488</td>\n",
              "    </tr>\n",
              "  </tbody>\n",
              "</table>\n",
              "</div>"
            ],
            "text/plain": [
              "Predicted Values     0    1\n",
              "Actual Values              \n",
              "0                 6705  289\n",
              "1                 1518  488"
            ]
          },
          "metadata": {
            "tags": []
          },
          "execution_count": 88
        }
      ]
    },
    {
      "cell_type": "markdown",
      "metadata": {
        "id": "-hA4Wg0hRv7Q",
        "colab_type": "text"
      },
      "source": [
        "As we see here, the logistic model is rubbish!!!!!"
      ]
    },
    {
      "cell_type": "markdown",
      "metadata": {
        "id": "YicJwFjHopIV",
        "colab_type": "text"
      },
      "source": [
        "# try XgBoost"
      ]
    },
    {
      "cell_type": "code",
      "metadata": {
        "id": "xqMhpgo2ohfB",
        "colab_type": "code",
        "colab": {}
      },
      "source": [
        "from xgboost import XGBClassifier\n",
        "from sklearn.metrics import accuracy_score"
      ],
      "execution_count": 0,
      "outputs": []
    },
    {
      "cell_type": "code",
      "metadata": {
        "id": "sbpsiBrapRUm",
        "colab_type": "code",
        "colab": {
          "base_uri": "https://localhost:8080/",
          "height": 141
        },
        "outputId": "15835dc7-d0b3-4dbb-9cc1-873dc9dc2841"
      },
      "source": [
        "# fit model no training data\n",
        "xgb = XGBClassifier()\n",
        "xgb.fit(X_train_s, y_train_s)"
      ],
      "execution_count": 94,
      "outputs": [
        {
          "output_type": "execute_result",
          "data": {
            "text/plain": [
              "XGBClassifier(base_score=0.5, booster='gbtree', colsample_bylevel=1,\n",
              "              colsample_bynode=1, colsample_bytree=1, gamma=0,\n",
              "              learning_rate=0.1, max_delta_step=0, max_depth=3,\n",
              "              min_child_weight=1, missing=None, n_estimators=100, n_jobs=1,\n",
              "              nthread=None, objective='binary:logistic', random_state=0,\n",
              "              reg_alpha=0, reg_lambda=1, scale_pos_weight=1, seed=None,\n",
              "              silent=None, subsample=1, verbosity=1)"
            ]
          },
          "metadata": {
            "tags": []
          },
          "execution_count": 94
        }
      ]
    },
    {
      "cell_type": "code",
      "metadata": {
        "id": "_1phAQ4rqS0O",
        "colab_type": "code",
        "colab": {
          "base_uri": "https://localhost:8080/",
          "height": 35
        },
        "outputId": "e661fa6a-c15e-4546-c49e-08ca03327dfd"
      },
      "source": [
        "# make predictions for test data\n",
        "xgb_pred = xgb.predict(X_test_s)\n",
        "predictions = [round(value) for value in xgb_pred]\n",
        "\n",
        "# evaluate predictions\n",
        "accuracy = accuracy_score(y_test_s, predictions)\n",
        "print(\"Accuracy: %.2f%%\" % (accuracy * 100.0))"
      ],
      "execution_count": 100,
      "outputs": [
        {
          "output_type": "stream",
          "text": [
            "Accuracy: 81.60%\n"
          ],
          "name": "stdout"
        }
      ]
    },
    {
      "cell_type": "code",
      "metadata": {
        "id": "CsXujoA4rHfm",
        "colab_type": "code",
        "colab": {
          "base_uri": "https://localhost:8080/",
          "height": 135
        },
        "outputId": "80bcb6bc-33c1-43d6-d91d-53bcdcc5a327"
      },
      "source": [
        "pd.crosstab(y_test_s, xgb_pred, rownames=['Actual Values'], colnames=['Predicted Values'])"
      ],
      "execution_count": 101,
      "outputs": [
        {
          "output_type": "execute_result",
          "data": {
            "text/html": [
              "<div>\n",
              "<style scoped>\n",
              "    .dataframe tbody tr th:only-of-type {\n",
              "        vertical-align: middle;\n",
              "    }\n",
              "\n",
              "    .dataframe tbody tr th {\n",
              "        vertical-align: top;\n",
              "    }\n",
              "\n",
              "    .dataframe thead th {\n",
              "        text-align: right;\n",
              "    }\n",
              "</style>\n",
              "<table border=\"1\" class=\"dataframe\">\n",
              "  <thead>\n",
              "    <tr style=\"text-align: right;\">\n",
              "      <th>Predicted Values</th>\n",
              "      <th>0</th>\n",
              "      <th>1</th>\n",
              "    </tr>\n",
              "    <tr>\n",
              "      <th>Actual Values</th>\n",
              "      <th></th>\n",
              "      <th></th>\n",
              "    </tr>\n",
              "  </thead>\n",
              "  <tbody>\n",
              "    <tr>\n",
              "      <th>0</th>\n",
              "      <td>6652</td>\n",
              "      <td>342</td>\n",
              "    </tr>\n",
              "    <tr>\n",
              "      <th>1</th>\n",
              "      <td>1314</td>\n",
              "      <td>692</td>\n",
              "    </tr>\n",
              "  </tbody>\n",
              "</table>\n",
              "</div>"
            ],
            "text/plain": [
              "Predicted Values     0    1\n",
              "Actual Values              \n",
              "0                 6652  342\n",
              "1                 1314  692"
            ]
          },
          "metadata": {
            "tags": []
          },
          "execution_count": 101
        }
      ]
    },
    {
      "cell_type": "markdown",
      "metadata": {
        "id": "ITVZvwK8s-3q",
        "colab_type": "text"
      },
      "source": [
        "# try SVM"
      ]
    },
    {
      "cell_type": "code",
      "metadata": {
        "id": "H4YWnR-_sN5J",
        "colab_type": "code",
        "colab": {}
      },
      "source": [
        "#Import svm model\n",
        "from sklearn import svm\n",
        "\n",
        "#Create a svm Classifier\n",
        "svm = svm.SVC(kernel='linear') # Linear Kernel\n",
        "\n",
        "#Train the model using the training sets\n",
        "svm.fit(X_train_s, y_train_s)\n"
      ],
      "execution_count": 0,
      "outputs": []
    },
    {
      "cell_type": "code",
      "metadata": {
        "id": "oX84MSfPSFPD",
        "colab_type": "code",
        "colab": {}
      },
      "source": [
        "#Predict the response for test dataset\n",
        "y_pred = svm.predict(X_test_s)"
      ],
      "execution_count": 0,
      "outputs": []
    },
    {
      "cell_type": "code",
      "metadata": {
        "id": "z123LSFIt409",
        "colab_type": "code",
        "colab": {
          "base_uri": "https://localhost:8080/",
          "height": 35
        },
        "outputId": "f2adb31e-c962-4514-9236-0a495c8f37df"
      },
      "source": [
        "#Import scikit-learn metrics module for accuracy calculation\n",
        "from sklearn import metrics\n",
        "\n",
        "# Model Accuracy: how often is the classifier correct?\n",
        "print(\"Accuracy:\",metrics.accuracy_score(y_test, y_pred))"
      ],
      "execution_count": 104,
      "outputs": [
        {
          "output_type": "stream",
          "text": [
            "Accuracy: 0.7435555555555555\n"
          ],
          "name": "stdout"
        }
      ]
    },
    {
      "cell_type": "code",
      "metadata": {
        "id": "eA-IrJYCRQPq",
        "colab_type": "code",
        "colab": {
          "base_uri": "https://localhost:8080/",
          "height": 135
        },
        "outputId": "8486caec-d1b4-49f5-b1b2-0f07e9c34cf5"
      },
      "source": [
        "pd.crosstab(y_test_s, y_pred, rownames=['Actual Values'], colnames=['Predicted Values'])"
      ],
      "execution_count": 107,
      "outputs": [
        {
          "output_type": "execute_result",
          "data": {
            "text/html": [
              "<div>\n",
              "<style scoped>\n",
              "    .dataframe tbody tr th:only-of-type {\n",
              "        vertical-align: middle;\n",
              "    }\n",
              "\n",
              "    .dataframe tbody tr th {\n",
              "        vertical-align: top;\n",
              "    }\n",
              "\n",
              "    .dataframe thead th {\n",
              "        text-align: right;\n",
              "    }\n",
              "</style>\n",
              "<table border=\"1\" class=\"dataframe\">\n",
              "  <thead>\n",
              "    <tr style=\"text-align: right;\">\n",
              "      <th>Predicted Values</th>\n",
              "      <th>0</th>\n",
              "      <th>1</th>\n",
              "    </tr>\n",
              "    <tr>\n",
              "      <th>Actual Values</th>\n",
              "      <th></th>\n",
              "      <th></th>\n",
              "    </tr>\n",
              "  </thead>\n",
              "  <tbody>\n",
              "    <tr>\n",
              "      <th>0</th>\n",
              "      <td>6285</td>\n",
              "      <td>709</td>\n",
              "    </tr>\n",
              "    <tr>\n",
              "      <th>1</th>\n",
              "      <td>1599</td>\n",
              "      <td>407</td>\n",
              "    </tr>\n",
              "  </tbody>\n",
              "</table>\n",
              "</div>"
            ],
            "text/plain": [
              "Predicted Values     0    1\n",
              "Actual Values              \n",
              "0                 6285  709\n",
              "1                 1599  407"
            ]
          },
          "metadata": {
            "tags": []
          },
          "execution_count": 107
        }
      ]
    },
    {
      "cell_type": "markdown",
      "metadata": {
        "id": "jyQi7KETy3fI",
        "colab_type": "text"
      },
      "source": [
        "# try Adboost"
      ]
    },
    {
      "cell_type": "code",
      "metadata": {
        "id": "0ZIQ8ffPy2Ru",
        "colab_type": "code",
        "colab": {
          "base_uri": "https://localhost:8080/",
          "height": 301
        },
        "outputId": "eb91c2ba-5c7e-4ddb-f6ea-17cc42cf5e29"
      },
      "source": [
        "from sklearn.ensemble import AdaBoostClassifier\n",
        "from sklearn.tree import DecisionTreeClassifier\n",
        "from sklearn.metrics import confusion_matrix\n",
        "\n",
        "adb = AdaBoostClassifier(\n",
        "    DecisionTreeClassifier(max_depth=1),\n",
        "    n_estimators=200\n",
        ")\n",
        "adb.fit(X_train_s, y_train_s)"
      ],
      "execution_count": 110,
      "outputs": [
        {
          "output_type": "execute_result",
          "data": {
            "text/plain": [
              "AdaBoostClassifier(algorithm='SAMME.R',\n",
              "                   base_estimator=DecisionTreeClassifier(ccp_alpha=0.0,\n",
              "                                                         class_weight=None,\n",
              "                                                         criterion='gini',\n",
              "                                                         max_depth=1,\n",
              "                                                         max_features=None,\n",
              "                                                         max_leaf_nodes=None,\n",
              "                                                         min_impurity_decrease=0.0,\n",
              "                                                         min_impurity_split=None,\n",
              "                                                         min_samples_leaf=1,\n",
              "                                                         min_samples_split=2,\n",
              "                                                         min_weight_fraction_leaf=0.0,\n",
              "                                                         presort='deprecated',\n",
              "                                                         random_state=None,\n",
              "                                                         splitter='best'),\n",
              "                   learning_rate=1.0, n_estimators=200, random_state=None)"
            ]
          },
          "metadata": {
            "tags": []
          },
          "execution_count": 110
        }
      ]
    },
    {
      "cell_type": "code",
      "metadata": {
        "id": "N18XQcMFYZcx",
        "colab_type": "code",
        "colab": {}
      },
      "source": [
        "adb_pred = adb.predict(X_test_s)"
      ],
      "execution_count": 0,
      "outputs": []
    },
    {
      "cell_type": "code",
      "metadata": {
        "id": "KTtRgiCsZCsP",
        "colab_type": "code",
        "colab": {
          "base_uri": "https://localhost:8080/",
          "height": 35
        },
        "outputId": "fb9821c9-4587-4690-f4cf-f93c68346122"
      },
      "source": [
        "#Import scikit-learn metrics module for accuracy calculation\n",
        "from sklearn import metrics\n",
        "\n",
        "# Model Accuracy: how often is the classifier correct?\n",
        "print(\"Accuracy:\",metrics.accuracy_score(y_test_s, adb_pred))"
      ],
      "execution_count": 113,
      "outputs": [
        {
          "output_type": "stream",
          "text": [
            "Accuracy: 0.8145555555555556\n"
          ],
          "name": "stdout"
        }
      ]
    },
    {
      "cell_type": "code",
      "metadata": {
        "id": "5aa-VbgtZfcW",
        "colab_type": "code",
        "colab": {
          "base_uri": "https://localhost:8080/",
          "height": 135
        },
        "outputId": "90f8e287-8896-41c8-ec66-3602bb2f4001"
      },
      "source": [
        "pd.crosstab(y_test_s, adb_pred, rownames=['Actual Values'], colnames=['Predicted Values'])"
      ],
      "execution_count": 115,
      "outputs": [
        {
          "output_type": "execute_result",
          "data": {
            "text/html": [
              "<div>\n",
              "<style scoped>\n",
              "    .dataframe tbody tr th:only-of-type {\n",
              "        vertical-align: middle;\n",
              "    }\n",
              "\n",
              "    .dataframe tbody tr th {\n",
              "        vertical-align: top;\n",
              "    }\n",
              "\n",
              "    .dataframe thead th {\n",
              "        text-align: right;\n",
              "    }\n",
              "</style>\n",
              "<table border=\"1\" class=\"dataframe\">\n",
              "  <thead>\n",
              "    <tr style=\"text-align: right;\">\n",
              "      <th>Predicted Values</th>\n",
              "      <th>0</th>\n",
              "      <th>1</th>\n",
              "    </tr>\n",
              "    <tr>\n",
              "      <th>Actual Values</th>\n",
              "      <th></th>\n",
              "      <th></th>\n",
              "    </tr>\n",
              "  </thead>\n",
              "  <tbody>\n",
              "    <tr>\n",
              "      <th>0</th>\n",
              "      <td>6701</td>\n",
              "      <td>293</td>\n",
              "    </tr>\n",
              "    <tr>\n",
              "      <th>1</th>\n",
              "      <td>1376</td>\n",
              "      <td>630</td>\n",
              "    </tr>\n",
              "  </tbody>\n",
              "</table>\n",
              "</div>"
            ],
            "text/plain": [
              "Predicted Values     0    1\n",
              "Actual Values              \n",
              "0                 6701  293\n",
              "1                 1376  630"
            ]
          },
          "metadata": {
            "tags": []
          },
          "execution_count": 115
        }
      ]
    },
    {
      "cell_type": "markdown",
      "metadata": {
        "id": "s6iH6o0hZrfc",
        "colab_type": "text"
      },
      "source": [
        "# try LDA"
      ]
    },
    {
      "cell_type": "code",
      "metadata": {
        "id": "AY8lkg7tZlJe",
        "colab_type": "code",
        "colab": {}
      },
      "source": [
        "from sklearn.discriminant_analysis import LinearDiscriminantAnalysis\n",
        "lda = LinearDiscriminantAnalysis()\n",
        "lda_fit = lda.fit_transform(X_train_s, y_train_s)"
      ],
      "execution_count": 0,
      "outputs": []
    },
    {
      "cell_type": "code",
      "metadata": {
        "id": "u9nmoy4te_ol",
        "colab_type": "code",
        "colab": {}
      },
      "source": [
        "lda_pred = lda.predict(X_test_s)"
      ],
      "execution_count": 0,
      "outputs": []
    },
    {
      "cell_type": "code",
      "metadata": {
        "id": "bVTQD7FGe2zV",
        "colab_type": "code",
        "colab": {
          "base_uri": "https://localhost:8080/",
          "height": 35
        },
        "outputId": "e3dc69a6-a464-489f-cec6-cf39e294c706"
      },
      "source": [
        "#Import scikit-learn metrics module for accuracy calculation\n",
        "from sklearn import metrics\n",
        "\n",
        "# Model Accuracy: how often is the classifier correct?\n",
        "print(\"Accuracy:\",metrics.accuracy_score(y_test_s, lda_pred))"
      ],
      "execution_count": 118,
      "outputs": [
        {
          "output_type": "stream",
          "text": [
            "Accuracy: 0.8058888888888889\n"
          ],
          "name": "stdout"
        }
      ]
    },
    {
      "cell_type": "code",
      "metadata": {
        "id": "Z7Y4fZcXfFrB",
        "colab_type": "code",
        "colab": {
          "base_uri": "https://localhost:8080/",
          "height": 135
        },
        "outputId": "57e0327c-d745-4a9e-84e1-d896fedcc66e"
      },
      "source": [
        "pd.crosstab(y_test_s, lda_pred, rownames=['Actual Values'], colnames=['Predicted Values'])"
      ],
      "execution_count": 120,
      "outputs": [
        {
          "output_type": "execute_result",
          "data": {
            "text/html": [
              "<div>\n",
              "<style scoped>\n",
              "    .dataframe tbody tr th:only-of-type {\n",
              "        vertical-align: middle;\n",
              "    }\n",
              "\n",
              "    .dataframe tbody tr th {\n",
              "        vertical-align: top;\n",
              "    }\n",
              "\n",
              "    .dataframe thead th {\n",
              "        text-align: right;\n",
              "    }\n",
              "</style>\n",
              "<table border=\"1\" class=\"dataframe\">\n",
              "  <thead>\n",
              "    <tr style=\"text-align: right;\">\n",
              "      <th>Predicted Values</th>\n",
              "      <th>0</th>\n",
              "      <th>1</th>\n",
              "    </tr>\n",
              "    <tr>\n",
              "      <th>Actual Values</th>\n",
              "      <th></th>\n",
              "      <th></th>\n",
              "    </tr>\n",
              "  </thead>\n",
              "  <tbody>\n",
              "    <tr>\n",
              "      <th>0</th>\n",
              "      <td>6781</td>\n",
              "      <td>213</td>\n",
              "    </tr>\n",
              "    <tr>\n",
              "      <th>1</th>\n",
              "      <td>1534</td>\n",
              "      <td>472</td>\n",
              "    </tr>\n",
              "  </tbody>\n",
              "</table>\n",
              "</div>"
            ],
            "text/plain": [
              "Predicted Values     0    1\n",
              "Actual Values              \n",
              "0                 6781  213\n",
              "1                 1534  472"
            ]
          },
          "metadata": {
            "tags": []
          },
          "execution_count": 120
        }
      ]
    },
    {
      "cell_type": "markdown",
      "metadata": {
        "id": "CiYlPDQVfVhZ",
        "colab_type": "text"
      },
      "source": [
        "# draw ROC Curve"
      ]
    },
    {
      "cell_type": "code",
      "metadata": {
        "id": "U4pKLMPMfLUj",
        "colab_type": "code",
        "colab": {}
      },
      "source": [
        "from sklearn.metrics import roc_curve\n",
        "fpr_rf, tpr_rf, _ = roc_curve(y_test_s, predictions_short)\n",
        "\n",
        "fpr_lg, tpr_lg, _ = roc_curve(y_test_s, lgm_pred)\n",
        "\n",
        "fpr_xgb, tpr_xgb, _ = roc_curve(y_test_s, xgb_pred)\n",
        "\n",
        "fpr_svm, tpr_svm, _ = roc_curve(y_test_s, y_pred)\n",
        "\n",
        "fpr_adb, tpr_adb, _ = roc_curve(y_test_s, adb_pred)\n",
        "\n",
        "fpr_lda, tpr_lda, _ = roc_curve(y_test_s, lda_pred)"
      ],
      "execution_count": 0,
      "outputs": []
    },
    {
      "cell_type": "code",
      "metadata": {
        "id": "PH8Jvv2OklZW",
        "colab_type": "code",
        "colab": {
          "base_uri": "https://localhost:8080/",
          "height": 301
        },
        "outputId": "59dc6995-c668-4646-dd54-3b3903b7e045"
      },
      "source": [
        "plt.figure(1)\n",
        "plt.plot([0, 1], [0, 1], 'k--')\n",
        "plt.plot(fpr_rf, tpr_rf, label='rf')\n",
        "plt.plot(fpr_lg, tpr_lg, label='lg')\n",
        "plt.plot(fpr_xgb, tpr_xgb, label='xgb')\n",
        "plt.plot(fpr_svm, tpr_svm, label='svm')\n",
        "plt.plot(fpr_adb, tpr_adb, label='adb')\n",
        "plt.plot(fpr_lda, tpr_lda, label='lda')\n",
        "plt.xlabel('False positive rate')\n",
        "plt.ylabel('True positive rate')\n",
        "plt.title('ROC curve')\n",
        "plt.legend(loc='best')\n",
        "plt.show()"
      ],
      "execution_count": 127,
      "outputs": [
        {
          "output_type": "display_data",
          "data": {
            "image/png": "[encoded data removed]",
            "text/plain": [
              "<Figure size 432x288 with 1 Axes>"
            ]
          },
          "metadata": {
            "tags": []
          }
        }
      ]
    },
    {
      "cell_type": "code",
      "metadata": {
        "id": "4ASWwSPqmUQk",
        "colab_type": "code",
        "colab": {}
      },
      "source": [
        ""
      ],
      "execution_count": 0,
      "outputs": []
    }
  ]
}